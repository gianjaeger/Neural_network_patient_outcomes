{
 "cells": [
  {
   "cell_type": "code",
   "execution_count": null,
   "metadata": {},
   "outputs": [],
   "source": [
    "# Data manipulation and visualization\n",
    "import pandas as pd\n",
    "import seaborn as sns\n",
    "import matplotlib.pyplot as plt\n",
    "\n",
    "# Machine learning\n",
    "from sklearn.model_selection import train_test_split\n",
    "from sklearn.experimental import enable_iterative_imputer\n",
    "from sklearn.impute import IterativeImputer\n",
    "from sklearn.ensemble import RandomForestRegressor\n",
    "from sklearn.linear_model import LogisticRegression\n",
    "from sklearn.preprocessing import StandardScaler\n",
    "\n",
    "# Metrics\n",
    "from sklearn.metrics import (\n",
    "    accuracy_score, precision_score, recall_score, f1_score, roc_auc_score, confusion_matrix, \n",
    "    ConfusionMatrixDisplay, balanced_accuracy_score\n",
    ")\n",
    "\n",
    "# Neural network\n",
    "import torch\n",
    "\n",
    "# Gradient boosting\n",
    "import xgboost as xgb"
   ]
  },
  {
   "cell_type": "markdown",
   "metadata": {},
   "source": [
    "## Introduction to Machine Learning"
   ]
  },
  {
   "cell_type": "markdown",
   "metadata": {},
   "source": [
    "**Import the data on Myocardial infarction complications from the US Irvin Machine Learning Repository**"
   ]
  },
  {
   "cell_type": "code",
   "execution_count": 143,
   "metadata": {},
   "outputs": [
    {
     "name": "stdout",
     "output_type": "stream",
     "text": [
      "{'uci_id': 579, 'name': 'Myocardial infarction complications', 'repository_url': 'https://archive.ics.uci.edu/dataset/579/myocardial+infarction+complications', 'data_url': 'https://archive.ics.uci.edu/static/public/579/data.csv', 'abstract': 'Prediction of myocardial infarction complications', 'area': 'Health and Medicine', 'tasks': ['Classification'], 'characteristics': ['Multivariate'], 'num_instances': 1700, 'num_features': 111, 'feature_types': ['Real'], 'demographics': ['Age', 'Sex'], 'target_col': ['FIBR_PREDS', 'PREDS_TAH', 'JELUD_TAH', 'FIBR_JELUD', 'A_V_BLOK', 'OTEK_LANC', 'RAZRIV', 'DRESSLER', 'ZSN', 'REC_IM', 'P_IM_STEN', 'LET_IS'], 'index_col': ['ID'], 'has_missing_values': 'yes', 'missing_values_symbol': 'NaN', 'year_of_dataset_creation': 2020, 'last_updated': 'Fri Nov 03 2023', 'dataset_doi': '10.24432/C53P5M', 'creators': ['S.E. Golovenkin', 'V.A. Shulman', 'D.A. Rossiev', 'P.A. Shesternya', 'S.Yu. Nikulina', 'Yu.V. Orlova', 'V.F. Voino-Yasenetsky'], 'intro_paper': {'ID': 228, 'type': 'NATIVE', 'title': 'Trajectories, bifurcations, and pseudo-time in large clinical datasets: applications to myocardial infarction and diabetes data', 'authors': 'S. E. Golovenkin, Jonathan Bac, A. Chervov, E. M. Mirkes, Y. Orlova, E. Barillot, A. Gorban, A. Zinovyev', 'venue': 'GigaScience', 'year': 2020, 'journal': None, 'DOI': None, 'URL': 'https://www.semanticscholar.org/paper/0ea5a469d4f0d83ce6a0d2f7215269877afaf628', 'sha': None, 'corpus': None, 'arxiv': None, 'mag': None, 'acl': None, 'pmid': '33241287', 'pmcid': None}, 'additional_info': {'summary': 'Problems of real-life complexity are needed to test and compare various data mining and pattern recognition methods. The proposed database can be used to solve two practically important problems: predicting complications of Myocardial Infarction (MI) based on information about the patient (i) at the time of admission and (ii) on the third day of the hospital period. Another important group of tasks is phenotyping of disease (cluster analysis), dynamic phenotyping (filament extraction and identification of disease trajectories) and visualisation (disease mapping). \\r\\nMI is one of the most challenging problems of modern medicine. Acute myocardial infarction is associated with high mortality in the first year after it. The incidence of MI remains high in all countries. This is especially true for the urban population of highly developed countries, which is exposed to chronic stress factors, irregular and not always balanced nutrition. In the United States, for example, more than a million people suffer from MI every year, and 200-300 thousand of them die from acute MI before arriving at the hospital. \\r\\nThe course of the disease in patients with MI is different. MI can occur without complications or with complications that do not worsen the long-term prognosis. At the same time, about half of patients in the acute and subacute periods have complications that lead to worsening of the disease and even death. Even an experienced specialist can not always foresee the development of these complications. In this regard, predicting complications of myocardial infarction in order to timely carry out the necessary preventive measures is an important task. \\r\\n\\r\\nProblems to solve\\r\\nIn general columns 2-112 can be used as input data for prediction. Possible complications (outputs) are listed in columns 113-124.\\r\\nThere are four possible time moments for complication prediction: on base of the information known at\\r\\n1.\\tthe time of admission to hospital: all input columns (2-112) except 93, 94, 95, 100, 101, 102, 103, 104, 105 can be used for prediction;\\r\\n2.\\tthe end of the first day (24 hours after admission to the hospital): all input columns (2-112) except 94, 95, 101, 102, 104, 105 can be used for prediction;\\r\\n3.\\tthe end of the second day (48 hours after admission to the hospital) all input columns (2-112) except 95, 102, 105 can be used for prediction;\\r\\n4.\\tthe end of the third day (72 hours after admission to the hospital) all input columns (2-112) can be used for prediction.\\r\\n\\r\\nYou can find detailed description of database, descriptive statistics and csv version of database in DOI: 10.25392/leicester.data.12045261.v3\\r\\n', 'purpose': None, 'funded_by': None, 'instances_represent': None, 'recommended_data_splits': None, 'sensitive_data': None, 'preprocessing_description': None, 'variable_info': 'Table of abbreviations\\r\\nFC is the functional class of angina pectoris in the last year according to Campeau, L., 1976. Grading of angina pectoris. Circulation, 54(3), pp.522-523.\\r\\nCHD is coronary heart disease.\\r\\nHF is heart failure.\\r\\nECG is electrocardiogram.\\r\\nAV is atrioventricular block.\\r\\nLBBB is left bundle branch block.\\r\\nRBBB is right bundle branch block.\\r\\nQRS is QRS complex in ECG\\r\\nIU is international unit.\\r\\nICU is intensive care unit.\\r\\nESR is erythrocyte sedimentation rate.\\r\\nNSAID is non-steroidal anti-inflammatory drugs.\\r\\n\\r\\nList of attributes\\r\\n1. Record ID (ID): Unique identifier. Cannot be related to participant. It can be used for reference only.\\r\\n2. Age (AGE): Real. Age of patient.\\r\\n3. Gender (SEX): Nominal: \\r\\n\\t\\t\\tCases\\tFraction\\r\\n0: female\\t635\\t37.35%\\r\\n1: male\\t1065\\t62.65%\\r\\nMissing\\t\\t0\\t0%\\r\\n4. Quantity of myocardial infarctions in the anamnesis (INF_ANAM): Ordinal\\r\\n\\t\\t\\tCases\\tFraction\\r\\n0: zero\\t\\t1060\\t62.35%\\r\\n1: one\\t\\t\\t410\\t24.12%\\r\\n2: two\\t\\t\\t147\\t8.65%\\r\\n3: three and more\\t79\\t4.65%\\r\\nMissing\\t\\t\\t4\\t0.24%\\r\\n5. Exertional angina pectoris in the anamnesis (STENOK_AN): Ordinal\\r\\n\\t\\t\\t\\tCases\\tFraction\\r\\n0: never\\t\\t\\t661\\t38.88%\\r\\n1: during the last year\\t146\\t8.59%\\r\\n2: one year ago\\t\\t137\\t8.06%\\r\\n3: two years ago\\t\\t117\\t6.88%\\r\\n4: three years ago\\t\\t76\\t4.47%\\r\\n5: 4-5 years ago\\t\\t125\\t7.35%\\r\\n6: more than 5 years ago\\t332\\t19.53%\\r\\nMissing\\t\\t\\t\\t106\\t6.24%\\r\\n6. Functional class (FC) of angina pectoris in the last year (FK_STENOK): Ordinal\\r\\n\\t\\t\\t\\t\\tCases\\tFraction\\r\\n0: there is no angina pectoris\\t\\t661\\t38.88%\\r\\n1: I FC\\t\\t\\t\\t47\\t2.76%\\r\\n2: II FC\\t\\t\\t\\t854\\t50.24%\\r\\n3: III FC\\t\\t\\t\\t54\\t3.18%\\r\\n4: IV FC\\t\\t\\t\\t11\\t0.65%\\r\\nMissing\\t\\t\\t\\t\\t73\\t4.29%\\r\\n7. Coronary heart disease (CHD) in recent weeks, days before admission to hospital (IBS_POST): Ordinal\\r\\n\\t\\t\\t\\t\\tCases\\tFraction\\r\\n0: there was no Ð¡HD\\t\\t\\t418\\t24.59%\\r\\n1: exertional angina pectoris\\t\\t548\\t32.24%\\r\\n2: unstable angina pectoris\\t\\t683\\t40.18%\\r\\nMissing\\t\\t\\t\\t\\t51\\t3.00%\\r\\n8. Heredity on CHD (IBS_NASL): Nominal\\r\\n\\t\\t\\tCases\\tFraction\\r\\n0: isnâ€™t burdened\\t45\\t2.65%\\r\\n1: burdened\\t\\t27\\t1.59%\\r\\nMissing\\t\\t\\t1628\\t95.76%\\r\\n9. Presence of an essential hypertension (GB): Ordinal\\r\\n\\t\\t\\t\\t\\tCases\\tFraction\\r\\n0: there is no essential hypertension\\t605\\t35.59%\\r\\n1: Stage 1\\t\\t\\t\\t11\\t0.65%\\r\\n2: Stage 2\\t\\t\\t\\t880\\t51.76%\\r\\n3: Stage 3\\t\\t\\t\\t195\\t11.47%\\r\\nMissing\\t\\t\\t\\t\\t9\\t0.53%\\r\\n10. Symptomatic hypertension (SIM_GIPERT): Nominal\\r\\n\\t\\t\\tCases\\tFraction\\r\\n0: no\\t\\t1635\\t96.18%\\r\\n1: yes\\t\\t57\\t3.35%\\r\\nMissing\\t\\t8\\t0.47%\\r\\n11. Duration of arterial hypertension (DLIT_AG): Ordinal\\r\\n\\t\\t\\t\\t\\tCases\\tFraction\\r\\n0: there was no arterial hypertension\\t551\\t32.41%\\r\\n1: one year\\t\\t\\t\\t93\\t5.47%\\r\\n2: two years\\t\\t\\t\\t58\\t3.41%\\r\\n3: three years\\t\\t\\t\\t58\\t3.41%\\r\\n4: four years\\t\\t\\t\\t22\\t1.29%\\r\\n5: five years\\t\\t\\t\\t73\\t4.29%\\r\\n6: 6-10 years\\t\\t\\t\\t165\\t9.71%\\r\\n7: more than 10 years\\t\\t\\t432\\t25.41%\\r\\nMissing\\t\\t\\t\\t\\t248\\t14.59%\\r\\n12. Presence of chronic Heart failure (HF) in the anamnesis (ZSN_A): Partially ordered attribute: there are two lines of severities:\\r\\n0<1<2<4,\\r\\n0<1<3<4.\\r\\nState 4 means simultaneous states 2 and 3\\r\\n\\t\\t\\t\\t\\t\\t\\tCases\\tFraction\\r\\n0: there is no chronic heart failure\\t\\t\\t1468\\t86.35%\\r\\n1: I stage\\t\\t\\t\\t\\t\\t103\\t6.06%\\r\\n2: IIÐ stage (heart failure due to right \\r\\nventricular systolic dysfunction)\\t\\t\\t27\\t1.59%\\r\\n3: IIÐ stage (heart failure due to left \\r\\nventricular systolic dysfunction)\\t\\t\\t29\\t1.71%\\r\\n4: IIB stage (heart failure due to left and\\r\\n right ventricular systolic dysfunction)\\t\\t19\\t1.12%\\r\\nMissing\\t\\t\\t\\t\\t\\t\\t54\\t3.18%\\r\\n13. Observing of arrhythmia in the anamnesis (nr11): Nominal\\r\\n\\t\\tCases\\tFraction\\r\\n0: no\\t\\t1637\\t96.29%\\r\\n1: yes\\t\\t42\\t2.47%\\r\\nMissing\\t\\t21\\t1.24%\\r\\n14. Premature atrial contractions in the anamnesis (nr01): Nominal\\r\\n\\t\\tCases\\tFraction\\r\\n0: no\\t\\t1675\\t98.53%\\r\\n1: yes\\t\\t4\\t0.24%\\r\\nMissing\\t\\t21\\t1.24%\\r\\n15. Premature ventricular contractions in the anamnesis (nr02): Nominal\\r\\n\\t\\tCases\\tFraction\\r\\n0: no\\t\\t1660\\t97.65%\\r\\n1: yes\\t\\t19\\t1.12%\\r\\nMissing\\t\\t21\\t1.24%\\r\\n16. Paroxysms of atrial fibrillation in the anamnesis (nr03): Nominal\\r\\n\\t\\tCases\\tFraction\\r\\n0: no\\t\\t1644\\t96.71%\\r\\n1: yes\\t\\t35\\t2.06%\\r\\nMissing\\t\\t21\\t1.24%\\r\\n17. A persistent form of atrial fibrillation in the anamnesis (nr04): Nominal\\r\\n\\t\\tCases\\tFraction\\r\\n0: no\\t\\t1650\\t97.06%\\r\\n1: yes\\t\\t29\\t1.71%\\r\\nMissing\\t\\t21\\t1.24%\\r\\n18. Ventricular fibrillation in the anamnesis (nr07): Nominal\\r\\n\\t\\tCases\\tFraction\\r\\n0: no\\t\\t1678\\t98.71%\\r\\n1: yes\\t\\t1\\t0.06%\\r\\nMissing\\t\\t21\\t1.24%\\r\\n19. Ventricular paroxysmal tachycardia in the anamnesis (nr08): Nominal\\r\\n\\t\\tCases\\tFraction\\r\\n0: no\\t\\t1675\\t98.53%\\r\\n1: yes\\t\\t4\\t0.24%\\r\\nMissing\\t\\t21\\t1.24%\\r\\n20. First-degree AV block in the anamnesis (np01): Nominal\\r\\n\\t\\tCases\\tFraction\\r\\n0: no\\t\\t1680\\t98.82%\\r\\n1: yes\\t\\t2\\t0.12%\\r\\nMissing\\t\\t18\\t1.06%\\r\\n21. Third-degree AV block in the anamnesis (np04): Nominal\\r\\n\\t\\tCases\\tFraction\\r\\n0: no\\t\\t1679\\t98.76%\\r\\n1: yes\\t\\t3\\t0.18%\\r\\nMissing\\t\\t18\\t1.06%\\r\\n22. LBBB (anterior branch) in the anamnesis (np05): Nominal\\r\\n\\t\\tCases\\tFraction\\r\\n0: no\\t\\t1671\\t98.29%\\r\\n1: yes\\t\\t11\\t0.65%\\r\\nMissing\\t\\t18\\t1.06%\\r\\n23. Incomplete LBBB in the anamnesis (np07): Nominal\\r\\n\\t\\tCases\\tFraction\\r\\n0: no\\t\\t1681\\t98.88%\\r\\n1: yes\\t\\t1\\t0.06%\\r\\nMissing\\t\\t18\\t1.06%\\r\\n24. Complete LBBB in the anamnesis (np08): Nominal\\r\\n\\t\\tCases\\tFraction\\r\\n0: no\\t\\t1676\\t98.59%\\r\\n1: yes\\t\\t6\\t0.35%\\r\\nMissing\\t\\t18\\t1.06%\\r\\n25. Incomplete RBBB in the anamnesis (np09): Nominal\\r\\n\\t\\tCases\\tFraction\\r\\n0: no\\t\\t1680\\t98.82%\\r\\n1: yes\\t\\t2\\t0.12%\\r\\nMissing\\t\\t18\\t1.06%\\r\\n26. Complete RBBB in the anamnesis (np10): Nominal\\r\\n\\t\\tCases\\tFraction\\r\\n0: no\\t\\t1679\\t98.76%\\r\\n1: yes\\t\\t3\\t0.18%\\r\\nMissing\\t\\t18\\t1.06%\\r\\n27. Diabetes mellitus in the anamnesis (endocr_01): Nominal\\r\\n\\t\\tCases\\tFraction\\r\\n0: no\\t\\t1461\\t85.94%\\r\\n1: yes\\t\\t228\\t13.41%\\r\\nMissing\\t\\t11\\t0.65%\\r\\n28. Obesity in the anamnesis (endocr_02): Nominal\\r\\n\\t\\tCases\\tFraction\\r\\n0: no\\t\\t1648\\t96.94%\\r\\n1: yes\\t\\t42\\t2.47%\\r\\nMissing\\t\\t10\\t0.59%\\r\\n29. Thyrotoxicosis in the anamnesis (endocr_03): Nominal\\r\\n\\t\\tCases\\tFraction\\r\\n0: no\\t\\t1677\\t98.65%\\r\\n1: yes\\t\\t13\\t0.76%\\r\\nMissing\\t\\t10\\t0.59%\\t\\r\\n30. Chronic bronchitis in the anamnesis (zab_leg_01): Nominal\\r\\n\\t\\tCases\\tFraction\\r\\n0: no\\t\\t1559\\t91.71%\\r\\n1: yes\\t\\t134\\t7.88%\\r\\nMissing\\t\\t7\\t0.41%\\r\\n31.Obstructive chronic bronchitis in the anamnesis (zab_leg_02): Nominal\\r\\n\\t\\tCases\\tFraction\\r\\n0: no\\t\\t1572\\t92.47%\\r\\n1: yes\\t\\t121\\t7.12%\\r\\nMissing\\t\\t7\\t0.41%\\r\\n32. Bronchial asthma in the anamnesis (zab_leg_03): Nominal\\r\\n\\t\\tCases\\tFraction\\r\\n0: no\\t\\t1656\\t97.41%\\r\\n1: yes\\t\\t37\\t2.18%\\r\\nMissing\\t\\t7\\t0.41%\\r\\n33. Chronic pneumonia in the anamnesis (zab_leg_04): Nominal\\r\\n\\t\\tCases\\tFraction\\r\\n0: no\\t\\t1684\\t99.06%\\r\\n1: yes\\t\\t9\\t0.53%\\r\\nMissing\\t\\t7\\t0.41%\\r\\n34. Pulmonary tuberculosis in the anamnesis (zab_leg_06): Nominal\\r\\n\\t\\tCases\\tFraction\\r\\n0: no\\t\\t1684\\t99.06%\\r\\n1: yes\\t\\t9\\t0.53%\\r\\nMissing\\t\\t7\\t0.41%\\r\\n35. Systolic blood pressure according to Emergency Cardiology Team (S_AD_KBRIG) (mmHg): Real.\\r\\n36. Diastolic blood pressure according to Emergency Cardiology Team (D_AD_KBRIG) (mmHg): Real.\\r\\n37. Systolic blood pressure according to intensive care unit (S_AD_ORIT) (mmHg): Real.\\r\\n38. Diastolic blood pressure according to intensive care unit (D_AD_ORIT) (mmHg): Real.\\r\\n39. Pulmonary edema at the time of admission to intensive care unit (O_L_POST): Nominal\\r\\n\\t\\tCases\\tFraction\\r\\n0: no\\t\\t1578\\t92.82%\\r\\n1: yes\\t\\t110\\t6.47%\\r\\nMissing\\t\\t12\\t0.71%\\r\\n40. Cardiogenic shock at the time of admission to intensive care unit (K_SH_POST): Nominal\\r\\n\\t\\tCases\\tFraction\\r\\n0: no\\t\\t1639\\t96.41%\\r\\n1: yes\\t\\t46\\t2.71%\\r\\nMissing\\t\\t15\\t0.88%\\r\\n41. Paroxysms of atrial fibrillation at the time of admission to intensive care unit, (or at a pre-hospital stage) (MP_TP_POST): Nominal\\r\\n\\t\\tCases\\tFraction\\r\\n0: no\\t\\t1572\\t92.47%\\r\\n1: yes\\t\\t114\\t6.71%\\r\\nMissing\\t\\t14\\t0.82%\\r\\n42. Paroxysms of supraventricular tachycardia at the time of admission to intensive care unit, (or at a pre-hospital stage) (SVT_POST): Nominal\\r\\n\\t\\tCases\\tFraction\\r\\n0: no\\t\\t1680\\t98.82%\\r\\n1: yes\\t\\t8\\t0.47%\\r\\nMissing\\t\\t12\\t0.71%\\r\\n43. Paroxysms of ventricular tachycardia at the time of admission to intensive care unit, (or at a pre-hospital stage) (GT_POST): Nominal\\r\\n\\t\\tCases\\tFraction\\r\\n0: no\\t\\t1680\\t98.82%\\r\\n1: yes\\t\\t8\\t0.47%\\r\\nMissing\\t\\t12\\t0.71%\\r\\n44. Ventricular fibrillation at the time of admission to intensive care unit, (or at a pre-hospital stage) (FIB_G_POST): Nominal\\r\\n\\t\\tCases\\tFraction\\r\\n0: no\\t\\t1673\\t98.41%\\r\\n1: yes\\t\\t15\\t0.88%\\r\\nMissing\\t\\t12\\t0.71%\\r\\n45. Presence of an anterior myocardial infarction (left ventricular) (ECG changes in leads V1: V4 ) (ant_im): Ordinal\\r\\n\\t\\t\\t\\t\\t\\tCases\\tFraction\\r\\n0: there is no infarct in this location\\t660\\t38.82%\\r\\n1: QRS has no changes\\t\\t\\t\\t392\\t23.06%\\r\\n2: QRS is like QR-complex\\t\\t\\t39\\t2.29%\\r\\n3: QRS is like Qr-complex\\t\\t\\t34\\t2.00%\\r\\n4: QRS is like QS-complex\\t\\t\\t492\\t28.94%\\r\\nMissing\\t\\t\\t\\t\\t\\t83\\t4.88%\\r\\n46. Presence of a lateral myocardial infarction (left ventricular) (ECG changes in leads V5: V6 , I, AVL) (lat_im): Ordinal\\r\\n\\t\\t\\t\\t\\tCases\\tFraction\\r\\n0: there is no infarct in this location\\t576\\t33.88%\\r\\n1: QRS has no changes\\t\\t\\t838\\t49.29%\\r\\n2: QRS is like QR-complex\\t\\t97\\t5.71%\\r\\n3: QRS is like Qr-complex\\t\\t72\\t4.24%\\r\\n4: QRS is like QS-complex\\t\\t37\\t2.18%\\r\\nMissing\\t\\t\\t\\t\\t80\\t4.71%\\r\\n47. Presence of an inferior myocardial infarction (left ventricular) (ECG changes in leads III, AVF, II). (inf_im): Ordinal\\r\\n\\t\\t\\t\\t\\t\\tCases\\tFraction\\r\\n0: there is no infarct in this location\\t937\\t55.12%\\r\\n1: QRS has no changes\\t\\t\\t\\t195\\t11.47%\\r\\n2: QRS is like QR-complex\\t\\t\\t191\\t11.24%\\r\\n3: QRS is like Qr-complex\\t\\t\\t121\\t7.12%\\r\\n4: QRS is like QS-complex\\t\\t\\t176\\t10.35%\\r\\nMissing\\t\\t\\t\\t\\t\\t80\\t4.71%\\r\\n48. Presence of a posterior myocardial infarction (left ventricular) (ECG changes in V7: V9, reciprocity changes in leads V1 â€“ V3) (post_im): Ordinal\\r\\n\\t\\t\\t\\t\\t\\tCases\\tFraction\\r\\n0: there is no infarct in this location\\t1370\\t80.59%\\r\\n1: QRS has no changes\\t\\t\\t\\t157\\t9.24%\\r\\n2: QRS is like QR-complex\\t\\t\\t52\\t3.06%\\r\\n3: QRS is like Qr-complex\\t\\t\\t35\\t2.06%\\r\\n4: QRS is like QS-complex\\t\\t\\t14\\t0.82%\\r\\nMissing\\t\\t\\t\\t\\t\\t72\\t4.24%\\r\\n49. Presence of a right ventricular myocardial infarction (IM_PG_P): Nominal\\r\\n\\t\\tCases\\tFraction\\r\\n0: no\\t\\t1649\\t97.00%\\r\\n1: yes\\t\\t50\\t2.94%\\r\\nMissing\\t\\t1\\t0.06%\\r\\n50. ECG rhythm at the time of admission to hospital: sinus (with a heart rate 60-90) (ritm_ecg_p_01): Nominal\\r\\n\\t\\tCases\\tFraction\\r\\n0: no\\t\\t519\\t30.53%\\r\\n1: yes\\t\\t1029\\t60.53%\\r\\nMissing\\t\\t152\\t8.94%\\r\\n51. ECG rhythm at the time of admission to hospital: atrial fibrillation (ritm_ecg_p_02): Nominal\\r\\n\\t\\tCases\\tFraction\\r\\n0: no\\t\\t1453\\t85.47%\\r\\n1: yes\\t\\t95\\t5.59%\\r\\nMissing\\t\\t152\\t8.94%\\r\\n52. ECG rhythm at the time of admission to hospital: atrial (ritm_ecg_p_04): Nominal\\r\\n\\t\\tCases\\tFraction\\r\\n0: no\\t\\t1525\\t89.71%\\r\\n1: yes\\t\\t23\\t1.35%\\r\\nMissing\\t\\t152\\t8.94%\\r\\n53. ECG rhythm at the time of admission to hospital: idioventricular (ritm_ecg_p_06): Nominal\\r\\n\\t\\tCases\\tFraction\\r\\n0: no\\t\\t1547\\t91.00%\\r\\n1: yes\\t\\t1\\t0.06%\\r\\nMissing\\t\\t152\\t8.94%\\r\\n54. ECG rhythm at the time of admission to hospital: sinus with a heart rate above 90 (tachycardia) (ritm_ecg_p_07): Nominal\\r\\n\\t\\tCases\\tFraction\\r\\n0: no\\t\\t1195\\t70.29%\\r\\n1: yes\\t\\t353\\t20.76%\\r\\nMissing\\t\\t152\\t8.94%\\r\\n55. ECG rhythm at the time of admission to hospital: sinus with a heart rate below 60 (bradycardia) (ritm_ecg_p_08): Nominal\\r\\n\\t\\tCases\\tFraction\\r\\n0: no\\t\\t1502\\t88.35%\\r\\n1: yes\\t\\t46\\t2.71%\\r\\nMissing\\t\\t152\\t8.94%\\r\\n56. Premature atrial contractions on ECG at the time of admission to hospital (n_r_ecg_p_01): Nominal\\r\\n\\t\\tCases\\tFraction\\r\\n0: no\\t\\t1527\\t89.82%\\r\\n1: yes\\t\\t58\\t3.41%\\r\\nMissing\\t\\t115\\t6.76%\\r\\n57. Frequent premature atrial contractions on ECG at the time of admission to hospital (n_r_ecg_p_02): Nominal\\r\\n\\t\\tCases\\tFraction\\r\\n0: no\\t\\t1577\\t92.76%\\r\\n1: yes\\t\\t8\\t0.47%\\r\\nMissing\\t\\t115\\t6.76%\\r\\n58.Premature ventricular contractions on ECG at the time of admission to hospital (n_r_ecg_p_03): Nominal\\r\\n\\t\\tCases\\tFraction\\r\\n0: no\\t\\t1381\\t81.24%\\r\\n1: yes\\t\\t204\\t12.00%\\r\\nMissing\\t\\t115\\t6.76%\\r\\n59. Frequent premature ventricular contractions on ECG at the time of admission to hospital (n_r_ecg_p_04): Nominal\\r\\n\\t\\tCases\\tFraction\\r\\n0: no\\t\\t1516\\t89.18%\\r\\n1: yes\\t\\t69\\t4.06%\\r\\nMissing\\t\\t115\\t6.76%\\r\\n60. Paroxysms of atrial fibrillation on ECG at the time of admission to hospital (n_r_ecg_p_05): Nominal\\r\\n\\t\\tCases\\tFraction\\r\\n0: no\\t\\t1515\\t89.12%\\r\\n1: yes\\t\\t70\\t4.12%\\r\\nMissing\\t\\t115\\t6.76%\\r\\n61. Persistent form of atrial fibrillation on ECG at the time of admission to hospital (n_r_ecg_p_06): Nominal\\r\\n\\t\\tCases\\tFraction\\r\\n0: no\\t\\t1553\\t91.35%\\r\\n1: yes\\t\\t32\\t1.88%\\r\\nMissing\\t\\t115\\t6.76%\\r\\n62. Paroxysms of supraventricular tachycardia on ECG at the time of admission to hospital (n_r_ecg_p_08): Nominal \\r\\n\\t\\tCases\\tFraction\\r\\n0: no\\t\\t1581\\t93.00%\\r\\n1: yes\\t\\t4\\t0.24%\\r\\nMissing\\t\\t115\\t6.76%\\r\\n63. Paroxysms of ventricular tachycardia on ECG at the time of admission to hospital (n_r_ecg_p_09): Nominal\\r\\n\\t\\tCases\\tFraction\\r\\n0: no\\t\\t1583\\t93.12%\\r\\n1: yes\\t\\t2\\t0.12%\\r\\nMissing\\t\\t115\\t6.76%\\r\\n64. Ventricular fibrillation on ECG at the time of admission to hospital (n_r_ecg_p_10): Nominal\\r\\n\\t\\tCases\\tFraction\\r\\n0: no\\t\\t1583\\t93.12%\\r\\n1: yes\\t\\t2\\t0.12%\\r\\nMissing\\t\\t115\\t6.76%\\r\\n65. Sinoatrial block on ECG at the time of admission to hospital (n_p_ecg_p_01): Nominal\\r\\n\\t\\tCases\\tFraction\\r\\n0: no\\t\\t1583\\t93.12%\\r\\n1: yes\\t\\t2\\t0.12%\\r\\nMissing\\t\\t115\\t6.76%\\r\\n66. First-degree AV block on ECG at the time of admission to hospital (n_p_ecg_p_03): Nominal\\r\\n\\t\\tCases\\tFraction\\r\\n0: no\\t\\t1553\\t91.35%\\r\\n1: yes\\t\\t32\\t1.88%\\r\\nMissing\\t\\t115\\t6.76%\\r\\n67. Type 1 Second-degree AV block (Mobitz I/Wenckebach) on ECG at the time of admission to hospital (n_p_ecg_p_04): Nominal\\r\\n\\t\\tCases\\tFraction\\r\\n0: no\\t\\t1580\\t92.94%\\r\\n1: yes\\t\\t5\\t0.29%\\r\\nMissing\\t\\t115\\t6.76%\\r\\n68. Type 2 Second-degree AV block (Mobitz II/Hay) on ECG at the time of admission to hospital (n_p_ecg_p_05): Nominal\\r\\n\\t\\tCases\\tFraction\\r\\n0: no\\t\\t1583\\t93.12%\\r\\n1: yes\\t\\t2\\t0.12%\\r\\nMissing\\t\\t115\\t6.76%\\r\\n69. Third-degree AV block on ECG at the time of admission to hospital (n_p_ecg_p_06): Nominal\\r\\n\\t\\tCases\\tFraction\\r\\n0: no\\t\\t1558\\t91.65%\\r\\n1: yes\\t\\t27\\t1.59%\\r\\nMissing\\t\\t115\\t6.76%\\r\\n70. LBBB (anterior branch) on ECG at the time of admission to hospital (n_p_ecg_p_07): Nominal\\r\\n\\t\\tCases\\tFraction\\r\\n0: no\\t\\t1483\\t87.24%\\r\\n1: yes\\t\\t102\\t6.00%\\r\\nMissing\\t\\t115\\t6.76%\\r\\n71. LBBB (posterior branch) on ECG at the time of admission to hospital (n_p_ecg_p_08): Nominal\\r\\n\\t\\tCases\\tFraction\\r\\n0: no\\t\\t1578\\t92.82%\\r\\n1: yes\\t\\t7\\t0.41%\\r\\nMissing\\t\\t115\\t6.76%\\r\\n72. Incomplete LBBB on ECG at the time of admission to hospital (n_p_ecg_p_09): Nominal\\r\\n\\t\\tCases\\tFraction\\r\\n0: no\\t\\t1575\\t92.65%\\r\\n1: yes\\t\\t10\\t0.59%\\r\\nMissing\\t\\t115\\t6.76%\\r\\n73. Complete LBBB on ECG at the time of admission to hospital (n_p_ecg_p_10): Nominal\\r\\n\\t\\tCases\\tFraction\\r\\n0: no\\t\\t1551\\t91.24%\\r\\n1: yes\\t\\t34\\t2.00%\\r\\nMissing\\t\\t115\\t6.76%\\r\\n74. Incomplete RBBB on ECG at the time of admission to hospital (n_p_ecg_p_11): Nominal\\r\\n\\t\\tCases\\tFraction\\r\\n0: no\\t\\t1557\\t91.59%\\r\\n1: yes\\t\\t28\\t1.65%\\r\\nMissing\\t\\t115\\t6.76%\\r\\n75. Complete RBBB on ECG at the time of admission to hospital (n_p_ecg_p_12):\\r\\n\\t\\tCases\\tFraction\\r\\n0: no\\t\\t1507\\t88.65%\\r\\n1: yes\\t\\t78\\t4.59%\\r\\nMissing\\t\\t115\\t6.76%\\r\\n76. Fibrinolytic therapy by Ð¡Ðµliasum 750k IU (fibr_ter_01): Nominal\\r\\n\\t\\tCases\\tFraction\\r\\n0: no\\t\\t1677\\t98.65%\\r\\n1: yes\\t\\t13\\t0.76%\\r\\nMissing\\t\\t10\\t0.59%\\r\\n77. Fibrinolytic therapy by Ð¡Ðµliasum 1m IU (fibr_ter_02): Nominal\\r\\n\\t\\tCases\\tFraction\\r\\n0: no\\t\\t1674\\t98.47%\\r\\n1: yes\\t\\t16\\t0.94%\\r\\nMissing\\t\\t10\\t0.59%\\r\\n78. Fibrinolytic therapy by Ð¡Ðµliasum 3m IU (fibr_ter_03): Nominal\\r\\n\\t\\tCases\\tFraction\\r\\n0: no\\t\\t1622\\t95.41%\\r\\n1: yes\\t\\t68\\t4.00%\\r\\nMissing\\t\\t10\\t0.59%\\r\\n79. Fibrinolytic therapy by Streptase (fibr_ter_05): Nominal\\r\\n\\t\\tCases\\tFraction\\r\\n0: no\\t\\t1686\\t99.18%\\r\\n1: yes\\t\\t4\\t0.24%\\r\\nMissing\\t\\t10\\t0.59%\\r\\n80. Fibrinolytic therapy by Ð¡Ðµliasum 500k IU (fibr_ter_06): Nominal\\r\\n\\t\\tCases\\tFraction\\r\\n0: no\\t\\t1681\\t98.88%\\r\\n1: yes\\t\\t9\\t0.53%\\r\\nMissing\\t\\t10\\t0.59%\\r\\n81. Fibrinolytic therapy by Ð¡Ðµliasum 250k IU (fibr_ter_07): Nominal\\r\\n\\t\\tCases\\tFraction\\r\\n0: no\\t\\t1684\\t99.06%\\r\\n1: yes\\t\\t6\\t0.35%\\r\\nMissing\\t\\t10\\t0.59%\\r\\n82. Fibrinolytic therapy by Streptodecase 1.5m IU (fibr_ter_08): Nominal\\r\\n\\t\\tCases\\tFraction\\r\\n0: no\\t\\t1688\\t99.29%\\r\\n1: yes\\t\\t2\\t0.12%\\r\\nMissing\\t\\t10\\t0.59%\\r\\n83. Hypokalemia ( < 4 mmol/L) (GIPO_K): Nominal\\r\\n\\t\\tCases\\tFraction\\r\\n0: no\\t\\t797\\t46.88%\\r\\n1: yes\\t\\t534\\t31.41%\\r\\nMissing\\t\\t369\\t21.71%\\r\\n84. Serum potassium content (K_BLOOD) (mmol/L): Real.\\r\\n85 Increase of sodium in serum (more than 150 mmol/L) (GIPER_Na): Nominal\\r\\n\\t\\tCases\\tFraction\\r\\n0: no\\t\\t1295\\t76.18%\\r\\n1: yes\\t\\t30\\t1.76%\\r\\nMissing\\t\\t375\\t22.06%\\r\\n86. Serum sodium content (Na_BLOOD) (mmol/L): Real.\\r\\n87. Serum AlAT content (ALT_BLOOD) (IU/L): Real.\\r\\n88. Serum AsAT content (AST_BLOOD) (IU/L): Real.\\r\\n89. Serum CPK content (KFK_BLOOD) (IU/L): Real.\\r\\n90. White blood cell count (billions per liter) (L_BLOOD): Real.\\r\\n91. ESR (Erythrocyte sedimentation rate) (ROE) (Ð¼Ð¼): Real.\\r\\n92. Time elapsed from the beginning of the attack of CHD to the hospital (TIME_B_S): Ordinal\\r\\n\\t\\t\\tCases\\tFraction\\r\\n1: less than 2 hours\\t198\\t11.65%\\r\\n2: 2-4 hours\\t\\t360\\t21.18%\\r\\n3: 4-6 hours\\t\\t175\\t10.29%\\r\\n4: 6-8 hours\\t\\t87\\t5.12%\\r\\n5: 8-12 hours\\t\\t92\\t5.41%\\r\\n6: 12-24 hours\\t\\t151\\t8.88%\\r\\n7: more than 1 days\\t141\\t8.29%\\r\\n8: more than 2 days\\t101\\t5.94%\\r\\n9: more than 3 days\\t269\\t15.82%\\r\\nMissing\\t\\t\\t126\\t7.41%\\r\\n93. Relapse of the pain in the first hours of the hospital period (R_AB_1_n): Ordinal\\r\\n\\t\\t\\tCases\\tFraction\\r\\n0: there is no relapse\\t1282\\t75.41%\\r\\n1: only one\\t\\t298\\t17.53%\\r\\n2: 2 times\\t\\t78\\t4.59%\\r\\n3: 3 or more times \\t26\\t1.53%\\r\\nMissing\\t\\t\\t16\\t0.94%\\r\\n94. Relapse of the pain in the second day of the hospital period (R_AB_2_n): Ordinal\\r\\n\\t\\t\\tCases\\tFraction\\r\\n0: there is no relapse\\t1414\\t83.18%\\r\\n1: only one\\t\\t133\\t7.82%\\r\\n2: 2 times\\t\\t44\\t2.59%\\r\\n3: 3 or more times \\t1\\t0.06%\\r\\nMissing\\t\\t\\t108\\t6.35%\\r\\n95. Relapse of the pain in the third day of the hospital period (R_AB_3_n): Ordinal\\r\\n\\t\\t\\tCases\\tFraction\\r\\n0: there is no relapse\\t1469\\t86.41%\\r\\n1: only one\\t\\t86\\t5.06%\\r\\n2: 2 times\\t\\t15\\t0.88%\\r\\n3: 3 or more times\\t2\\t0.12%\\r\\nMissing\\t\\t\\t1469\\t86.41%\\r\\n96. Use of opioid drugs by the Emergency Cardiology Team (NA_KB): Nominal\\r\\n\\t\\tCases\\tFraction\\r\\n0: no\\t\\t425\\t25.00%\\r\\n1: yes\\t\\t618\\t36.35%\\r\\nMissing\\t\\t657\\t38.65%\\r\\n97. Use of NSAIDs by the Emergency Cardiology Team (NOT_NA_KB): Nominal\\r\\n\\t\\tCases\\tFraction\\r\\n0: no\\t\\t313\\t18.41%\\r\\n1: yes\\t\\t701\\t41.23%\\r\\nMissing\\t\\t375\\t22.06%\\r\\n98.Use of lidocaine by the Emergency Cardiology Team (LID_KB): Nominal\\r\\n\\t\\tCases\\tFraction\\r\\n0: no\\t\\t627\\t36.88%\\r\\n1: yes\\t\\t396\\t23.29%\\r\\nMissing\\t\\t677\\t39.82%\\r\\n99. Use of liquid nitrates in the ICU (NITR_S): Nominal\\r\\n\\t\\tCases\\tFraction\\r\\n0: no\\t\\t1496\\t88.00%\\r\\n1: yes\\t\\t195\\t11.47%\\r\\nMissing\\t\\t9\\t0.53%\\r\\n100. Use of opioid drugs in the ICU in the first hours of the hospital period (NA_R_1_n): Ordinal\\r\\n\\t\\tCases\\tFraction\\r\\n0: no\\t\\t1108\\t65.18%\\r\\n1: once\\t409\\t24.06%\\r\\n2: twice\\t132\\t7.76%\\r\\n3: three times\\t35\\t2.06%\\r\\n4: four times\\t11\\t0.65%\\r\\nMissing\\t\\t5\\t0.29%\\t\\r\\n101. Use of opioid drugs in the ICU in the second day of the hospital period (NA_R_2_n): Ordinal\\r\\n\\t\\tCases\\tFraction\\r\\n0: no\\t\\t1474\\t86.71%\\r\\n1: once\\t87\\t5.12%\\r\\n2: twice\\t30\\t1.76%\\r\\n3: three times\\t1\\t0.06%\\r\\nMissing\\t\\t108\\t6.35%\\r\\n102. Use of opioid drugs in the ICU in the third day of the hospital period (NA_R_3_n): Ordinal\\r\\n\\t\\tCases\\tFraction\\r\\n0: no\\t\\t1493\\t87.82%\\r\\n1: once\\t60\\t3.53%\\r\\n2: twice\\t16\\t0.94%\\r\\nMissing\\t\\t131\\t7.71%\\r\\n103. Use of NSAIDs in the ICU in the first hours of the hospital period (NOT_NA_1_n): Ordinal\\r\\n\\t\\t\\tCases\\tFraction\\r\\n0: no\\t\\t\\t1237\\t72.76%\\r\\n1: once\\t\\t376\\t22.12%\\r\\n2: twice\\t\\t53\\t3.12%\\r\\n3: three times\\t\\t17\\t1.00%\\r\\n4: four or more times\\t7\\t0.41%\\r\\nMissing\\t\\t\\t10\\t0.59%\\r\\n104. Use of NSAIDs in the ICU in the second day of the hospital period (NOT_NA_2_n): Ordinal\\r\\n\\t\\tCases\\tFraction\\r\\n0: no\\t\\t1454\\t85.53%\\r\\n1: once\\t95\\t5.59%\\r\\n2: twice\\t38\\t2.24%\\r\\n3: three times\\t3\\t0.18%\\r\\nMissing\\t\\t110\\t6.47%\\r\\n105. Use of NSAIDs in the ICU in the third day of the hospital period (NOT_NA_3_n): Ordinal\\r\\n\\t\\tCases\\tFraction\\r\\n0: no\\t\\t1474\\t86.71%\\r\\n1: once\\t57\\t3.35%\\r\\n2: twice\\t38\\t2.24%\\r\\nMissing\\t\\t131\\t7.71%\\r\\n106. Use of lidocaine in the ICU (LID_S_n): Nominal\\r\\n\\t\\tCases\\tFraction\\r\\n0: no\\t\\t1211\\t71.24%\\r\\n1: yes\\t\\t479\\t28.18%\\r\\nMissing\\t\\t10\\t0.59%\\r\\n107. Use of beta-blockers in the ICU (B_BLOK_S_n): Nominal\\r\\n\\t\\tCases\\tFraction\\r\\n0: no\\t\\t1474\\t86.71%\\r\\n1: yes\\t\\t215\\t12.65%\\r\\nMissing\\t\\t11\\t0.65%\\r\\n108. Use of calcium channel blockers in the ICU (ANT_CA_S_n): Nominal\\r\\n\\t\\tCases\\tFraction\\r\\n0: no\\t\\t562\\t33.06%\\r\\n1: yes\\t\\t1125\\t66.18%\\r\\nMissing\\t\\t13\\t0.76%\\r\\n109. Use of Ð° anticoagulants (heparin) in the ICU (GEPAR_S_n): Nominal\\r\\n\\t\\tCases\\tFraction\\r\\n0: no\\t\\t480\\t28.24%\\r\\n1: yes\\t\\t1203\\t70.76%\\r\\nMissing\\t\\t17\\t1.00%\\r\\n110. Use of acetylsalicylic acid in the ICU (ASP_S_n): Nominal\\r\\n\\t\\tCases\\tFraction\\r\\n0: no\\t\\t431\\t25.35%\\r\\n1: yes\\t\\t1252\\t73.65%\\r\\nMissing\\t\\t17\\t1.00%\\r\\n111. Use of Ticlid in the ICU (TIKL_S_n): Nominal\\r\\n\\t\\tCases\\tFraction\\r\\n0: no\\t\\t1654\\t97.29%\\r\\n1: yes\\t\\t30\\t1.76%\\r\\nMissing\\t\\t16\\t0.94%\\r\\n112. Use of Trental in the ICU (TRENT_S_n): Nominal\\r\\n\\t\\tCases\\tFraction\\r\\n0: no\\t\\t1343\\t79.00%\\r\\n1: yes\\t\\t341\\t20.06%\\r\\nMissing\\t\\t16\\t0.94%\\r\\n\\r\\nComplications and outcomes of myocardial infarction: \\r\\n\\r\\n113. Atrial fibrillation (FIBR_PREDS): Nominal\\r\\n\\t\\tCases\\tFraction\\r\\n0: no\\t\\t1530\\t90.00%\\r\\n1: yes \\t170\\t10.00%\\r\\nMissing\\t\\t0\\t0%\\r\\n114. Supraventricular tachycardia (PREDS_TAH): Nominal\\r\\n\\t\\tCases\\tFraction\\r\\n0: no\\t\\t1680\\t98.82%\\r\\n1: yes \\t20\\t1.18%\\r\\nMissing\\t\\t0\\t0%\\r\\n115. Ventricular tachycardia (JELUD_TAH): Nominal\\r\\n\\t\\tCases\\tFraction\\r\\n0: no\\t\\t1658\\t97.53%\\r\\n1: yes \\t42\\t2.47%\\r\\nMissing\\t\\t0\\t0%\\r\\n116. Ventricular fibrillation (FIBR_JELUD): Nominal\\r\\n\\t\\tCases\\tFraction\\r\\n0: no\\t\\t1629\\t95.82%\\r\\n1: yes \\t71\\t4.18%\\r\\nMissing\\t\\t0\\t0%\\r\\n117. Third-degree AV block (A_V_BLOK): Nominal\\r\\n\\t\\tCases\\tFraction\\r\\n0: no\\t\\t1643\\t96.65%\\r\\n1: yes \\t57\\t3.35%\\r\\nMissing\\t\\t0\\t0%\\r\\n118. Pulmonary edema (OTEK_LANC): Nominal\\r\\n\\t\\tCases\\tFraction\\r\\n0: no\\t\\t1541\\t90.65%\\r\\n1: yes \\t159\\t9.35%\\r\\nMissing\\t\\t0\\t0%\\r\\n119. Myocardial rupture (RAZRIV): Nominal\\r\\n\\t\\tCases\\tFraction\\r\\n0: no\\t\\t1646\\t96.82%\\r\\n1: yes \\t54\\t3.18%\\r\\nMissing\\t\\t0\\t0%\\r\\n120. Dressler syndrome (DRESSLER): Nominal\\r\\n\\t\\tCases\\tFraction\\r\\n0: no\\t\\t1625\\t95.59%\\r\\n1: yes \\t75\\t4.41%\\r\\nMissing\\t\\t0\\t0%\\r\\n121. Chronic heart failure (ZSN): Nominal\\r\\n\\t\\tCases\\tFraction\\r\\n0: no\\t\\t1306\\t76.82%\\r\\n1: yes \\t394\\t23.18%\\r\\nMissing\\t\\t0\\t0%\\r\\n122. Relapse of the myocardial infarction (REC_IM): Nominal\\r\\n\\t\\tCases\\tFraction\\r\\n0: no\\t\\t1541\\t90.65%\\r\\n1: yes \\t159\\t9.35%\\r\\nMissing\\t\\t0\\t0%\\r\\n123. Post-infarction angina (P_IM_STEN): Nominal\\r\\n\\t\\tCases\\tFraction\\r\\n0: no\\t\\t1552\\t91.29%\\r\\n1: yes \\t148\\t8.71%\\r\\nMissing\\t\\t0\\t0%\\r\\n124. Lethal outcome (cause) (LET_IS): Structure\\r\\n\\t\\t\\t\\t\\t\\tCases\\tFraction\\r\\n0: unknown (alive)\\t\\t\\t\\t1429\\t84.06%\\r\\n1: cardiogenic shock\\t\\t\\t\\t110\\t6.47%\\r\\n2: pulmonary edema\\t\\t\\t\\t18\\t1.06%\\r\\n3: myocardial rupture\\t\\t\\t\\t54\\t3.18%\\r\\n4: progress of congestive heart failure\\t23\\t1.35%\\r\\n5: thromboembolism\\t\\t\\t\\t12\\t0.71%\\r\\n6: asystole\\t\\t\\t\\t\\t27\\t1.59%\\r\\n7: ventricular fibrillation\\t\\t\\t27\\t1.59%\\r\\nMissing\\t\\t\\t\\t\\t\\t0\\t0%\\r\\n\\r\\nSummary statistics for real attributes\\r\\nAttribute\\tMin\\tMax\\tMean\\tSTD\\tMissing cases\\tMissing fraction\\r\\nAge\\t\\t26\\t92\\t61.86\\t11.26\\t8\\t\\t0.47%\\r\\nS_AD_KBRIG\\t0\\t260\\t136.91\\t34.97\\t1076\\t\\t63.29%\\r\\nD_AD_KBRIG\\t0\\t190\\t81.39\\t19.73\\t1076\\t\\t63.29%\\r\\nS_AD_ORIT\\t0\\t260\\t134.59\\t31.34\\t267\\t\\t15.71%\\r\\nD_AD_ORIT\\t0\\t190\\t82.75\\t18.31\\t267\\t\\t15.71%\\r\\nK_BLOOD\\t\\t2.3\\t8.2\\t4.19\\t0.75\\t371\\t\\t21.82%\\r\\nNa_BLOOD\\t117\\t169\\t136.55\\t6.51\\t375\\t\\t22.06%\\r\\nALT_BLOOD\\t0.03\\t3\\t0.48\\t0.39\\t284\\t\\t16.71%\\r\\nAST_BLOOD\\t0.04\\t2.15\\t0.26\\t0.2\\t285\\t\\t16.67%\\r\\nKFK_BLOOD\\t1.2\\t3.6\\t2\\t0.95\\t1696\\t\\t99.76%\\r\\nL_BLOOD\\t\\t2\\t27.9\\t8.78\\t3.40\\t125\\t\\t7.35%\\r\\nROE\\t\\t1\\t140\\t13.44\\t11.29\\t203\\t\\t19.94%', 'citation': None}}\n",
      "          name     role         type demographic  \\\n",
      "0           ID       ID      Integer        None   \n",
      "1          AGE  Feature      Integer         Age   \n",
      "2          SEX  Feature       Binary         Sex   \n",
      "3     INF_ANAM  Feature  Categorical        None   \n",
      "4    STENOK_AN  Feature  Categorical        None   \n",
      "..         ...      ...          ...         ...   \n",
      "119   DRESSLER   Target       Binary        None   \n",
      "120        ZSN   Target       Binary        None   \n",
      "121     REC_IM   Target       Binary        None   \n",
      "122  P_IM_STEN   Target       Binary        None   \n",
      "123     LET_IS   Target  Categorical        None   \n",
      "\n",
      "                                           description units missing_values  \n",
      "0    Record ID (ID): Unique identifier. Cannot be r...  None             no  \n",
      "1                                      Age of patient.  None             no  \n",
      "2                                   0: female, 1: male  None             no  \n",
      "3    Quantity of myocardial infarctions in the anam...  None            yes  \n",
      "4    Exertional angina pectoris in the anamnesis. \\...  None            yes  \n",
      "..                                                 ...   ...            ...  \n",
      "119                                  Dressler syndrome  None             no  \n",
      "120                              Chronic heart failure  None             no  \n",
      "121               Relapse of the myocardial infarction  None             no  \n",
      "122                             Post-infarction angina  None             no  \n",
      "123  Lethal outcome (cause)\\n\\n0: unknown (alive)\\n...  None             no  \n",
      "\n",
      "[124 rows x 7 columns]\n"
     ]
    }
   ],
   "source": [
    "from ucimlrepo import fetch_ucirepo \n",
    "\n",
    "# fetch dataset \n",
    "myocardial_infarction_complications = fetch_ucirepo(id=579) \n",
    "  \n",
    "# data (as pandas dataframes) \n",
    "X = myocardial_infarction_complications.data.features \n",
    "y = myocardial_infarction_complications.data.targets \n",
    "  \n",
    "# metadata \n",
    "print(myocardial_infarction_complications.metadata) \n",
    "  \n",
    "# variable information \n",
    "print(myocardial_infarction_complications.variables)"
   ]
  },
  {
   "cell_type": "markdown",
   "metadata": {},
   "source": [
    "## Part 1: Data processing"
   ]
  },
  {
   "cell_type": "markdown",
   "metadata": {},
   "source": [
    "**For the y variable remove all columns that are not what we are trying to predict and encode patient outcome in binary (0=survives, 1=death)**"
   ]
  },
  {
   "cell_type": "code",
   "execution_count": 3,
   "metadata": {},
   "outputs": [],
   "source": [
    "# Remove all columns in y that are not LET_IS\n",
    "y = y['LET_IS']\n",
    "\n",
    "# Turn this binary by turning all values greater than 0 into 1 (i.e., fatal vs. non-fatal)\n",
    "y = y.apply(lambda x: 1 if x > 0 else 0)"
   ]
  },
  {
   "cell_type": "markdown",
   "metadata": {},
   "source": [
    "**For the x variable correctly store data by appropriate data type**"
   ]
  },
  {
   "cell_type": "code",
   "execution_count": 4,
   "metadata": {},
   "outputs": [
    {
     "name": "stderr",
     "output_type": "stream",
     "text": [
      "/var/folders/n5/_f2xjmkj39gb7s0th_6lyk9w0000gn/T/ipykernel_57304/464572143.py:19: SettingWithCopyWarning: \n",
      "A value is trying to be set on a copy of a slice from a DataFrame.\n",
      "Try using .loc[row_indexer,col_indexer] = value instead\n",
      "\n",
      "See the caveats in the documentation: https://pandas.pydata.org/pandas-docs/stable/user_guide/indexing.html#returning-a-view-versus-a-copy\n",
      "  X[col] = X[col].astype('category')\n"
     ]
    }
   ],
   "source": [
    "# Variables that should be categorical\n",
    "categorical_columns = [\"DLIT_AG\", \"INF_ANAM\", \"STENOK_AN\", \"FK_STENOK\", \"IBS_POST\", \"GB\", \"SEX\", \"IBS_NASL\", \"SIM_GIPERT\"\n",
    "                       \"ZSN_A\", \"nr_11\", \"nr_01\", \"nr_02\", \"nr_03\", \"nr_04\", \"nr_07\", \"nr_08\", \"np_01\", \n",
    "                       \"np_04\", \"np_05\", \"np_07\", \"np_08\", \"np_09\", \"np_10\", \"endocr_01\", \"endocr_02\", \"endocr_03\", \"zab_leg_01\"\n",
    "                       \"zab_leg_02\", \"zab_leg_03\", \"zab_leg_04\", \"zab_leg_06\", \"O_L_POST\", \"K_SH_POST\"\n",
    "                       \"MP_TP_POST\", \"SVT_POST\", \"GT_POST\", \"FIB_G_POST\", \"ant_im\", \"lat_im\", \"inf_im\", \"post_im\", \"IM_PG_P\", \"ritm_ecg_p_01\",\n",
    "                       \"ritm_ecg_p_02\", \"ritm_ecg_p_04\", \"ritm_ecg_p_06\", \"ritm_ecg_p_07\", \"ritm_ecg_p_08\", \"n_r_ecg_p_01\", \"n_r_ecg_p_02\", \n",
    "                       \"n_r_ecg_p_03\", \"n_r_ecg_p_04\", \"n_r_ecg_p_05\", \"n_r_ecg_p_06\", \"n_r_ecg_p_08\", \"n_r_ecg_p_09\", \"n_r_ecg_p_10\", \n",
    "                       \"n_p_ecg_p_01\", \"n_p_ecg_p_03\", \"n_p_ecg_p_04\", \"n_p_ecg_p_05\", \"n_p_ecg_p_06\", \"n_p_ecg_p_07\"\n",
    "                       \"n_p_ecg_p_08\", \"n_p_ecg_p_09\", \"n_p_ecg_p_10\", \"n_p_ecg_p_11\", \"n_p_ecg_p_12\", \"fibr_ter_01\", \"fibr_ter_02\", \n",
    "                       \"fibr_ter_03\", \"fibr_ter_05\", \"fibr_ter_06\", \"fibr_ter_07\", \"fibr_ter_08\", \"GIPO_K\", \"GIPER_NA\"\n",
    "                       \"TIME_B_S\", \"R_AB_1_n\", \"R_AB_2_n\", \"R_AB_3_n\", \"NA_KB\", \"NOT_NA_KB\", \"LID_KB\", \"NITR_S\", \"NOT_NA_1_n\",\n",
    "                        \"LID_S_n\", \"B_BLOK_S_n\", \"ANT_CA_S_n\", \"GEPAR_S_n\", \"ASP_S_n\", \"TIKL_S_n\", \"TRENT_S_n\", \"FIBR_PREDS\", \n",
    "                        \"PREDS_TAH\", \"JELUD_TAH\", \"FIBR_JELUD\", \"A_V_BLOK\", \"OTEK_LANC\", \"RAZRIV\", \"DRESSLER\", \"ZSN\", \"REC_IM\", \"P_IM_STEN\"]\n",
    "\n",
    "# Convert categorical variables to pandas categorical type\n",
    "for col in categorical_columns:\n",
    "    if col in X.columns:\n",
    "        X[col] = X[col].astype('category')"
   ]
  },
  {
   "cell_type": "code",
   "execution_count": 5,
   "metadata": {},
   "outputs": [
    {
     "name": "stdout",
     "output_type": "stream",
     "text": [
      "Continuous variables: 27\n",
      "Categorical variables: 84\n"
     ]
    }
   ],
   "source": [
    "# Determine data type for each variable (\n",
    "data_types = X.dtypes\n",
    "continuous = data_types[data_types == 'float64']\n",
    "categorical = data_types[data_types == 'category']\n",
    "\n",
    "print(f\"Continuous variables: {continuous.shape[0]}\")\n",
    "print(f\"Categorical variables: {categorical.shape[0]}\")"
   ]
  },
  {
   "cell_type": "code",
   "execution_count": 6,
   "metadata": {},
   "outputs": [
    {
     "name": "stdout",
     "output_type": "stream",
     "text": [
      "KFK_BLOOD     0.997647\n",
      "IBS_NASL      0.957647\n",
      "D_AD_KBRIG    0.632941\n",
      "S_AD_KBRIG    0.632941\n",
      "NOT_NA_KB     0.403529\n",
      "                ...   \n",
      "zab_leg_06    0.004118\n",
      "NA_R_1_n      0.002941\n",
      "INF_ANAM      0.002353\n",
      "IM_PG_P       0.000588\n",
      "SEX           0.000000\n",
      "Length: 111, dtype: float64\n"
     ]
    }
   ],
   "source": [
    "# See how much (%) data is missing for each feature\n",
    "missing_percent = X.isnull().mean().sort_values(ascending=False)\n",
    "print(missing_percent)"
   ]
  },
  {
   "cell_type": "code",
   "execution_count": 7,
   "metadata": {},
   "outputs": [
    {
     "data": {
      "image/png": "[encoded data removed]",
      "text/plain": [
       "<Figure size 640x480 with 1 Axes>"
      ]
     },
     "metadata": {},
     "output_type": "display_data"
    }
   ],
   "source": [
    "sns.heatmap(X.isnull(), cbar=False)\n",
    "plt.show()"
   ]
  },
  {
   "cell_type": "markdown",
   "metadata": {},
   "source": [
    "**Remove columns with less than 50% of data available**"
   ]
  },
  {
   "cell_type": "code",
   "execution_count": 8,
   "metadata": {},
   "outputs": [],
   "source": [
    "# Calculate the percentage of missing data for each column\n",
    "missing_percent = X.isnull().mean()\n",
    "\n",
    "# Find columns with more than 50% missing data\n",
    "columns_to_drop = missing_percent[missing_percent > 0.5].index\n",
    "\n",
    "# Drop those columns from X\n",
    "X = X.drop(columns=columns_to_drop, axis=1)"
   ]
  },
  {
   "cell_type": "markdown",
   "metadata": {},
   "source": [
    "**Steps to data imputation**\n",
    "\n",
    "1. Split x and y into training, validation and testing (these will then be imputed to avoid data leakage)\n",
    "3. Conduct imputation via random forest to accomodate to different variable types and to capture non-linear relationships\n",
    "5. Round all values to the nearest integer\n",
    "6. Bring categorical values back into the original range"
   ]
  },
  {
   "cell_type": "code",
   "execution_count": 9,
   "metadata": {},
   "outputs": [],
   "source": [
    "# Split data into training, validation and test sets (70% training, of which 30% is used for validation and 30% testing)\n",
    "X_train, X_test, y_train, y_test = train_test_split(X, y, test_size=0.3, random_state=42)\n",
    "X_train, X_val, y_train, y_val = train_test_split(X_train, y_train, test_size=0.3, random_state=42)"
   ]
  },
  {
   "cell_type": "code",
   "execution_count": 10,
   "metadata": {},
   "outputs": [
    {
     "name": "stdout",
     "output_type": "stream",
     "text": [
      "['SEX', 'SIM_GIPERT', 'nr_11', 'nr_01', 'nr_02', 'nr_03', 'nr_04', 'nr_07', 'nr_08', 'np_01', 'np_04', 'np_05', 'np_07', 'np_08', 'np_09', 'np_10', 'endocr_01', 'endocr_02', 'endocr_03', 'zab_leg_01', 'zab_leg_02', 'zab_leg_03', 'zab_leg_04', 'zab_leg_06', 'O_L_POST', 'K_SH_POST', 'MP_TP_POST', 'SVT_POST', 'GT_POST', 'FIB_G_POST', 'IM_PG_P', 'ritm_ecg_p_01', 'ritm_ecg_p_02', 'ritm_ecg_p_04', 'ritm_ecg_p_06', 'ritm_ecg_p_07', 'ritm_ecg_p_08', 'n_r_ecg_p_01', 'n_r_ecg_p_02', 'n_r_ecg_p_03', 'n_r_ecg_p_04', 'n_r_ecg_p_05', 'n_r_ecg_p_06', 'n_r_ecg_p_08', 'n_r_ecg_p_09', 'n_r_ecg_p_10', 'n_p_ecg_p_01', 'n_p_ecg_p_03', 'n_p_ecg_p_04', 'n_p_ecg_p_05', 'n_p_ecg_p_06', 'n_p_ecg_p_07', 'n_p_ecg_p_08', 'n_p_ecg_p_09', 'n_p_ecg_p_10', 'n_p_ecg_p_11', 'n_p_ecg_p_12', 'fibr_ter_01', 'fibr_ter_02', 'fibr_ter_03', 'fibr_ter_05', 'fibr_ter_06', 'fibr_ter_07', 'fibr_ter_08', 'GIPO_K', 'GIPER_NA', 'NA_KB', 'NOT_NA_KB', 'LID_KB', 'NITR_S', 'LID_S_n', 'B_BLOK_S_n', 'ANT_CA_S_n', 'GEPAR_S_n', 'ASP_S_n', 'TIKL_S_n', 'TRENT_S_n']\n"
     ]
    }
   ],
   "source": [
    "# List all columns that contain 2 or less distinct values (determine binary)\n",
    "binary_columns = X_train.columns[(X_train.nunique() <= 2)].tolist()\n",
    "print(binary_columns)"
   ]
  },
  {
   "cell_type": "code",
   "execution_count": 11,
   "metadata": {},
   "outputs": [
    {
     "name": "stdout",
     "output_type": "stream",
     "text": [
      "['INF_ANAM', 'STENOK_AN', 'FK_STENOK', 'IBS_POST', 'GB', 'ZSN_A', 'ant_im', 'lat_im', 'inf_im', 'post_im', 'R_AB_1_n', 'R_AB_2_n', 'R_AB_3_n', 'NA_R_1_n', 'NA_R_2_n', 'NA_R_3_n', 'NOT_NA_1_n', 'NOT_NA_2_n', 'NOT_NA_3_n']\n"
     ]
    }
   ],
   "source": [
    "# List all variables that contain between 3 and 7 distinct values (determine categorical)\n",
    "categorical_columns = X_train.columns[(X_train.nunique() > 2) & (X_train.nunique() <= 7)].tolist()\n",
    "print(categorical_columns)"
   ]
  },
  {
   "cell_type": "code",
   "execution_count": 12,
   "metadata": {},
   "outputs": [
    {
     "name": "stdout",
     "output_type": "stream",
     "text": [
      "['AGE', 'DLIT_AG', 'S_AD_ORIT', 'D_AD_ORIT', 'K_BLOOD', 'NA_BLOOD', 'ALT_BLOOD', 'AST_BLOOD', 'L_BLOOD', 'ROE', 'TIME_B_S']\n"
     ]
    }
   ],
   "source": [
    "# Print all variables that contain more than 7 distinct values (determine continuous)\n",
    "continuous_columns = X_train.columns[(X_train.nunique() > 7)].tolist()\n",
    "print(continuous_columns)"
   ]
  },
  {
   "cell_type": "code",
   "execution_count": null,
   "metadata": {},
   "outputs": [
    {
     "name": "stderr",
     "output_type": "stream",
     "text": [
      "/Users/gianjaeger/Desktop/ML/ML/lib/python3.12/site-packages/sklearn/impute/_iterative.py:895: ConvergenceWarning: [IterativeImputer] Early stopping criterion not reached.\n",
      "  warnings.warn(\n",
      "/Users/gianjaeger/Desktop/ML/ML/lib/python3.12/site-packages/sklearn/impute/_iterative.py:895: ConvergenceWarning: [IterativeImputer] Early stopping criterion not reached.\n",
      "  warnings.warn(\n",
      "/Users/gianjaeger/Desktop/ML/ML/lib/python3.12/site-packages/sklearn/impute/_iterative.py:895: ConvergenceWarning: [IterativeImputer] Early stopping criterion not reached.\n",
      "  warnings.warn(\n"
     ]
    }
   ],
   "source": [
    "# Function to impute binary and continuous variables together\n",
    "def impute_combined_data(data, binary_cols, continuous_cols):\n",
    "    # Reset the index to prevent errors\n",
    "    data = data.reset_index(drop=True)\n",
    "\n",
    "    # Create a column-specific logic for binary columns\n",
    "    def round_binary_columns(data_array, binary_col_indices):\n",
    "        for idx in binary_col_indices:\n",
    "            data_array[:, idx] = (data_array[:, idx] > 0.5).astype(int)\n",
    "        return data_array\n",
    "\n",
    "    # Combine all columns for imputation\n",
    "    all_cols = binary_cols + continuous_cols\n",
    "    binary_indices = [all_cols.index(col) for col in binary_cols]\n",
    "\n",
    "    # Create a unified imputer using RandomForestRegressor\n",
    "    imputer = IterativeImputer(estimator=RandomForestRegressor(n_estimators=10, random_state=42), max_iter=10)\n",
    "\n",
    "    # Fit and transform the entire dataset\n",
    "    imputed_array = imputer.fit_transform(data[all_cols])\n",
    "\n",
    "    # Ensure binary columns are rounded to 0 or 1\n",
    "    imputed_array = round_binary_columns(imputed_array, binary_indices)\n",
    "\n",
    "    # Convert back to DataFrame\n",
    "    imputed_data = pd.DataFrame(imputed_array, columns=all_cols)\n",
    "    return imputed_data\n",
    "\n",
    "# Specify binary and continuous columns\n",
    "binary_cols = ['SEX', 'SIM_GIPERT', 'nr_11', 'nr_01', 'nr_02', 'nr_03', 'nr_04', 'nr_07', 'nr_08', 'np_01', 'np_04', 'np_05',\n",
    "               'np_07', 'np_08', 'np_09', 'np_10', 'endocr_01', 'endocr_02', 'endocr_03', 'zab_leg_01', 'zab_leg_02',\n",
    "               'zab_leg_03', 'zab_leg_04', 'zab_leg_06', 'O_L_POST', 'K_SH_POST', 'MP_TP_POST', 'SVT_POST', 'GT_POST',\n",
    "               'FIB_G_POST', 'IM_PG_P', 'ritm_ecg_p_01', 'ritm_ecg_p_02', 'ritm_ecg_p_04', 'ritm_ecg_p_06', 'ritm_ecg_p_07',\n",
    "               'ritm_ecg_p_08', 'n_r_ecg_p_01', 'n_r_ecg_p_02', 'n_r_ecg_p_03', 'n_r_ecg_p_04', 'n_r_ecg_p_05', 'n_r_ecg_p_06',\n",
    "               'n_r_ecg_p_08', 'n_r_ecg_p_09', 'n_r_ecg_p_10', 'n_p_ecg_p_01', 'n_p_ecg_p_03', 'n_p_ecg_p_04', 'n_p_ecg_p_05',\n",
    "               'n_p_ecg_p_06', 'n_p_ecg_p_07', 'n_p_ecg_p_08', 'n_p_ecg_p_09', 'n_p_ecg_p_10', 'n_p_ecg_p_11', 'n_p_ecg_p_12',\n",
    "               'fibr_ter_01', 'fibr_ter_02', 'fibr_ter_03', 'fibr_ter_05', 'fibr_ter_06', 'fibr_ter_07', 'fibr_ter_08', 'GIPO_K',\n",
    "               'GIPER_NA', 'NA_KB', 'NOT_NA_KB', 'LID_KB', 'NITR_S', 'LID_S_n', 'B_BLOK_S_n', 'ANT_CA_S_n', 'GEPAR_S_n',\n",
    "               'ASP_S_n', 'TIKL_S_n', 'TRENT_S_n']\n",
    "\n",
    "continuous_cols = ['INF_ANAM', 'STENOK_AN', 'FK_STENOK', 'IBS_POST', 'GB', 'ZSN_A', 'ant_im', 'lat_im', 'inf_im',\n",
    "                    'post_im', 'R_AB_1_n', 'R_AB_2_n', 'R_AB_3_n', 'NA_R_1_n', 'NA_R_2_n', 'NA_R_3_n', 'NOT_NA_1_n',\n",
    "                    'NOT_NA_2_n', 'NOT_NA_3_n', 'AGE', 'DLIT_AG', 'S_AD_ORIT', 'D_AD_ORIT', 'K_BLOOD', 'NA_BLOOD', 'ALT_BLOOD', 'AST_BLOOD', 'L_BLOOD', 'ROE', 'TIME_B_S']\n",
    "\n",
    "# Apply unified imputation to each dataset\n",
    "X_train_imputed = impute_combined_data(X_train, binary_cols, continuous_cols)\n",
    "X_val_imputed = impute_combined_data(X_val, binary_cols, continuous_cols)\n",
    "X_test_imputed = impute_combined_data(X_test, binary_cols, continuous_cols)"
   ]
  },
  {
   "cell_type": "code",
   "execution_count": 23,
   "metadata": {},
   "outputs": [],
   "source": [
    "# Round all continuous variables to the nearest integer\n",
    "X_train_imputed = X_train_imputed.round()\n",
    "X_val_imputed = X_val_imputed.round()\n",
    "X_test_imputed = X_test_imputed.round()\n",
    "\n",
    "# Clip categorical variables to their valid categories\n",
    "def clip_categorical_variables(imputed_data, categorical_cols, reference_data):\n",
    "\n",
    "    clipped_data = imputed_data.copy()\n",
    "\n",
    "    for col in categorical_cols:\n",
    "        # Extract valid categories from the reference dataset\n",
    "        valid_categories = reference_data[col].dropna().unique()\n",
    "\n",
    "        # Convert the column to an ordered categorical type\n",
    "        ordered_categories = pd.Categorical(valid_categories, ordered=True)\n",
    "        min_category = ordered_categories.min()\n",
    "        max_category = ordered_categories.max()\n",
    "\n",
    "        # Clip imputed values to the valid range of categories\n",
    "        clipped_data[col] = clipped_data[col].round().clip(lower=min_category, upper=max_category)\n",
    "\n",
    "    return clipped_data"
   ]
  },
  {
   "cell_type": "markdown",
   "metadata": {},
   "source": [
    "---"
   ]
  },
  {
   "cell_type": "markdown",
   "metadata": {},
   "source": [
    "## Part 2: Neural Network\n",
    "\n",
    "For reference relevant data frames at this point are: \n",
    "- X_train_imputed\n",
    "- X_val_imputed\n",
    "- X_test_imputed\n",
    "- y_train\n",
    "- y_val\n",
    "- y_test\n",
    "\n",
    "For hyperparameter tuning, random search will be prefered."
   ]
  },
  {
   "cell_type": "code",
   "execution_count": 24,
   "metadata": {},
   "outputs": [],
   "source": [
    "%load_ext tensorboard"
   ]
  },
  {
   "cell_type": "code",
   "execution_count": 25,
   "metadata": {},
   "outputs": [
    {
     "name": "stdout",
     "output_type": "stream",
     "text": [
      "Collecting numpy<2\n",
      "  Using cached numpy-1.26.4-cp312-cp312-macosx_10_9_x86_64.whl.metadata (61 kB)\n",
      "Using cached numpy-1.26.4-cp312-cp312-macosx_10_9_x86_64.whl (20.3 MB)\n",
      "Installing collected packages: numpy\n",
      "  Attempting uninstall: numpy\n",
      "    Found existing installation: numpy 2.2.1\n",
      "    Uninstalling numpy-2.2.1:\n",
      "      Successfully uninstalled numpy-2.2.1\n",
      "Successfully installed numpy-1.26.4\n",
      "\n",
      "\u001b[1m[\u001b[0m\u001b[34;49mnotice\u001b[0m\u001b[1;39;49m]\u001b[0m\u001b[39;49m A new release of pip is available: \u001b[0m\u001b[31;49m24.0\u001b[0m\u001b[39;49m -> \u001b[0m\u001b[32;49m24.3.1\u001b[0m\n",
      "\u001b[1m[\u001b[0m\u001b[34;49mnotice\u001b[0m\u001b[1;39;49m]\u001b[0m\u001b[39;49m To update, run: \u001b[0m\u001b[32;49mpip install --upgrade pip\u001b[0m\n",
      "Note: you may need to restart the kernel to use updated packages.\n"
     ]
    }
   ],
   "source": [
    "pip install \"numpy<2\""
   ]
  },
  {
   "cell_type": "code",
   "execution_count": 37,
   "metadata": {},
   "outputs": [
    {
     "name": "stdout",
     "output_type": "stream",
     "text": [
      "Trial 1/20\n",
      "Validation Balanced Accuracy: 0.5456\n",
      "Trial 2/20\n",
      "Validation Balanced Accuracy: 0.5000\n",
      "Trial 3/20\n",
      "Validation Balanced Accuracy: 0.6867\n",
      "Trial 4/20\n",
      "Validation Balanced Accuracy: 0.7218\n",
      "Trial 5/20\n",
      "Validation Balanced Accuracy: 0.7233\n",
      "Trial 6/20\n",
      "Validation Balanced Accuracy: 0.7314\n",
      "Trial 7/20\n",
      "Validation Balanced Accuracy: 0.5000\n",
      "Trial 8/20\n",
      "Validation Balanced Accuracy: 0.5928\n",
      "Trial 9/20\n",
      "Validation Balanced Accuracy: 0.5244\n",
      "Trial 10/20\n",
      "Validation Balanced Accuracy: 0.5000\n",
      "Trial 11/20\n",
      "Validation Balanced Accuracy: 0.7159\n",
      "Trial 12/20\n",
      "Validation Balanced Accuracy: 0.5610\n",
      "Trial 13/20\n",
      "Validation Balanced Accuracy: 0.6560\n",
      "Trial 14/20\n",
      "Validation Balanced Accuracy: 0.5000\n",
      "Trial 15/20\n",
      "Validation Balanced Accuracy: 0.5000\n",
      "Trial 16/20\n",
      "Validation Balanced Accuracy: 0.5000\n",
      "Trial 17/20\n",
      "Validation Balanced Accuracy: 0.6305\n",
      "Trial 18/20\n",
      "Validation Balanced Accuracy: 0.5000\n",
      "Trial 19/20\n",
      "Validation Balanced Accuracy: 0.5928\n",
      "Trial 20/20\n",
      "Validation Balanced Accuracy: 0.5000\n",
      "\n",
      "Best Model Hyperparameters:\n",
      "{'hidden_layer_1_size': 64, 'hidden_layer_2_size': 32, 'learning_rate': 0.01, 'batch_size': 32, 'activation_function': 'Sigmoid'}\n",
      "Best Validation Balanced Accuracy: 0.7314\n"
     ]
    }
   ],
   "source": [
    "from models.random_search import random_search_hyperparameters\n",
    "\n",
    "# Convert data to PyTorch tensors\n",
    "X_train_tensor = torch.tensor(X_train_imputed.values, dtype=torch.float32)\n",
    "y_train_tensor = torch.tensor(y_train.values, dtype=torch.float32).view(-1, 1)\n",
    "X_val_tensor = torch.tensor(X_val_imputed.values, dtype=torch.float32)\n",
    "y_val_tensor = torch.tensor(y_val.values, dtype=torch.float32).view(-1, 1)\n",
    "\n",
    "# Prepare tensors (replace these with your actual data)\n",
    "input_size = X_train_tensor.shape[1]  # Input size for the model\n",
    "\n",
    "# Perform random search for hyperparameter tuning\n",
    "results = random_search_hyperparameters(\n",
    "    X_train_tensor=X_train_tensor,\n",
    "    y_train_tensor=y_train_tensor,\n",
    "    X_val_tensor=X_val_tensor,\n",
    "    y_val_tensor=y_val_tensor,\n",
    "    input_size=input_size,\n",
    "    num_epochs=20,\n",
    "    n_trials=20,\n",
    ")\n",
    "\n",
    "# Access the best model and its hyperparameters\n",
    "best_model = results[\"best_model\"]\n",
    "best_hyperparams = results[\"best_hyperparams\"]\n",
    "best_val_balanced_accuracy = results[\"best_val_balanced_accuracy\"]\n",
    "\n",
    "# Output the results\n",
    "print(\"\\nBest Model Hyperparameters:\")\n",
    "print(best_hyperparams)\n",
    "print(f\"Best Validation Balanced Accuracy: {best_val_balanced_accuracy:.4f}\")"
   ]
  },
  {
   "cell_type": "code",
   "execution_count": null,
   "metadata": {},
   "outputs": [
    {
     "name": "stdout",
     "output_type": "stream",
     "text": [
      "Epoch 1/20, Training Loss: 1.1773, Training Accuracy: 0.5090, Training Recall: 0.4658, Training Precision: 0.1704, Training F1: 0.2495, Training Balanced Accuracy: 0.4920, Validation Loss: 0.9851, Validation Accuracy: 0.1625, Validation Recall: 1.0000, Validation Precision: 0.1206, Validation F1: 0.2152, Validation Balanced Accuracy: 0.5269\n",
      "Epoch 2/20, Training Loss: 1.1307, Training Accuracy: 0.6555, Training Recall: 0.3288, Training Precision: 0.2025, Training F1: 0.2507, Training Balanced Accuracy: 0.5268, Validation Loss: 0.9249, Validation Accuracy: 0.7899, Validation Recall: 0.6341, Validation Precision: 0.3023, Validation F1: 0.4094, Validation Balanced Accuracy: 0.7221\n",
      "Epoch 3/20, Training Loss: 1.0581, Training Accuracy: 0.8007, Training Recall: 0.5548, Training Precision: 0.4451, Training F1: 0.4939, Training Balanced Accuracy: 0.7039, Validation Loss: 0.8917, Validation Accuracy: 0.6891, Validation Recall: 0.7317, Validation Precision: 0.2308, Validation F1: 0.3509, Validation Balanced Accuracy: 0.7076\n",
      "Epoch 4/20, Training Loss: 1.0180, Training Accuracy: 0.7167, Training Recall: 0.7192, Training Precision: 0.3500, Training F1: 0.4709, Training Balanced Accuracy: 0.7177, Validation Loss: 0.7819, Validation Accuracy: 0.9020, Validation Recall: 0.1707, Validation Precision: 0.8750, Validation F1: 0.2857, Validation Balanced Accuracy: 0.5838\n",
      "Epoch 5/20, Training Loss: 0.9942, Training Accuracy: 0.7419, Training Recall: 0.5411, Training Precision: 0.3480, Training F1: 0.4236, Training Balanced Accuracy: 0.6628, Validation Loss: 0.7643, Validation Accuracy: 0.7535, Validation Recall: 0.7561, Validation Precision: 0.2844, Validation F1: 0.4133, Validation Balanced Accuracy: 0.7546\n",
      "Epoch 6/20, Training Loss: 0.8713, Training Accuracy: 0.7911, Training Recall: 0.7260, Training Precision: 0.4417, Training F1: 0.5492, Training Balanced Accuracy: 0.7655, Validation Loss: 0.7335, Validation Accuracy: 0.8964, Validation Recall: 0.4634, Validation Precision: 0.5588, Validation F1: 0.5067, Validation Balanced Accuracy: 0.7080\n",
      "Epoch 7/20, Training Loss: 0.8270, Training Accuracy: 0.8067, Training Recall: 0.7534, Training Precision: 0.4681, Training F1: 0.5774, Training Balanced Accuracy: 0.7857, Validation Loss: 0.7983, Validation Accuracy: 0.8992, Validation Recall: 0.2683, Validation Precision: 0.6471, Validation F1: 0.3793, Validation Balanced Accuracy: 0.6247\n",
      "Epoch 8/20, Training Loss: 1.2026, Training Accuracy: 0.6723, Training Recall: 0.4110, Training Precision: 0.2429, Training F1: 0.3053, Training Balanced Accuracy: 0.5694, Validation Loss: 0.8653, Validation Accuracy: 0.8487, Validation Recall: 0.5610, Validation Precision: 0.3898, Validation F1: 0.4600, Validation Balanced Accuracy: 0.7235\n",
      "Epoch 9/20, Training Loss: 1.0062, Training Accuracy: 0.6891, Training Recall: 0.7329, Training Precision: 0.3272, Training F1: 0.4524, Training Balanced Accuracy: 0.7063, Validation Loss: 0.7977, Validation Accuracy: 0.8824, Validation Recall: 0.4390, Validation Precision: 0.4865, Validation F1: 0.4615, Validation Balanced Accuracy: 0.6894\n",
      "Epoch 10/20, Training Loss: 1.1112, Training Accuracy: 0.6555, Training Recall: 0.3904, Training Precision: 0.2235, Training F1: 0.2843, Training Balanced Accuracy: 0.5511, Validation Loss: 0.8874, Validation Accuracy: 0.8936, Validation Recall: 0.0976, Validation Precision: 0.8000, Validation F1: 0.1739, Validation Balanced Accuracy: 0.5472\n",
      "Epoch 11/20, Training Loss: 1.0524, Training Accuracy: 0.6591, Training Recall: 0.5000, Training Precision: 0.2570, Training F1: 0.3395, Training Balanced Accuracy: 0.5964, Validation Loss: 0.7428, Validation Accuracy: 0.7703, Validation Recall: 0.7561, Validation Precision: 0.3010, Validation F1: 0.4306, Validation Balanced Accuracy: 0.7641\n",
      "Epoch 12/20, Training Loss: 1.0277, Training Accuracy: 0.6507, Training Recall: 0.5616, Training Precision: 0.2654, Training F1: 0.3604, Training Balanced Accuracy: 0.6156, Validation Loss: 0.7850, Validation Accuracy: 0.9020, Validation Recall: 0.2683, Validation Precision: 0.6875, Validation F1: 0.3860, Validation Balanced Accuracy: 0.6262\n",
      "Epoch 13/20, Training Loss: 0.9580, Training Accuracy: 0.6663, Training Recall: 0.7329, Training Precision: 0.3092, Training F1: 0.4350, Training Balanced Accuracy: 0.6925, Validation Loss: 0.7281, Validation Accuracy: 0.6527, Validation Recall: 0.8293, Validation Precision: 0.2252, Validation F1: 0.3542, Validation Balanced Accuracy: 0.7295\n",
      "Epoch 14/20, Training Loss: 0.8793, Training Accuracy: 0.7959, Training Recall: 0.6644, Training Precision: 0.4450, Training F1: 0.5330, Training Balanced Accuracy: 0.7441, Validation Loss: 1.0477, Validation Accuracy: 0.5742, Validation Recall: 0.9268, Validation Precision: 0.2032, Validation F1: 0.3333, Validation Balanced Accuracy: 0.7277\n",
      "Epoch 15/20, Training Loss: 0.8576, Training Accuracy: 0.7587, Training Recall: 0.6712, Training Precision: 0.3904, Training F1: 0.4937, Training Balanced Accuracy: 0.7243, Validation Loss: 0.6916, Validation Accuracy: 0.7395, Validation Recall: 0.7805, Validation Precision: 0.2759, Validation F1: 0.4076, Validation Balanced Accuracy: 0.7573\n",
      "Epoch 16/20, Training Loss: 0.8492, Training Accuracy: 0.8247, Training Recall: 0.6096, Training Precision: 0.5000, Training F1: 0.5494, Training Balanced Accuracy: 0.7400, Validation Loss: 0.7274, Validation Accuracy: 0.8852, Validation Recall: 0.5122, Validation Precision: 0.5000, Validation F1: 0.5060, Validation Balanced Accuracy: 0.7229\n",
      "Epoch 17/20, Training Loss: 0.7903, Training Accuracy: 0.8319, Training Recall: 0.7192, Training Precision: 0.5147, Training F1: 0.6000, Training Balanced Accuracy: 0.7875, Validation Loss: 0.7892, Validation Accuracy: 0.8964, Validation Recall: 0.2927, Validation Precision: 0.6000, Validation F1: 0.3934, Validation Balanced Accuracy: 0.6337\n",
      "Epoch 18/20, Training Loss: 0.8503, Training Accuracy: 0.8355, Training Recall: 0.6781, Training Precision: 0.5238, Training F1: 0.5910, Training Balanced Accuracy: 0.7735, Validation Loss: 0.6949, Validation Accuracy: 0.8207, Validation Recall: 0.6829, Validation Precision: 0.3544, Validation F1: 0.4667, Validation Balanced Accuracy: 0.7608\n",
      "Epoch 19/20, Training Loss: 0.7657, Training Accuracy: 0.7455, Training Recall: 0.8151, Training Precision: 0.3914, Training F1: 0.5289, Training Balanced Accuracy: 0.7729, Validation Loss: 0.7306, Validation Accuracy: 0.6387, Validation Recall: 0.8537, Validation Precision: 0.2215, Validation F1: 0.3518, Validation Balanced Accuracy: 0.7322\n",
      "Epoch 20/20, Training Loss: 0.8031, Training Accuracy: 0.8211, Training Recall: 0.7671, Training Precision: 0.4934, Training F1: 0.6005, Training Balanced Accuracy: 0.7999, Validation Loss: 0.7198, Validation Accuracy: 0.8852, Validation Recall: 0.5610, Validation Precision: 0.5000, Validation F1: 0.5287, Validation Balanced Accuracy: 0.7441\n"
     ]
    }
   ],
   "source": [
    "from models.train_neural_network import train_neural_network \n",
    "\n",
    "# Call model (architecture defined in .py file based on random search)\n",
    "trained_model = train_neural_network(\n",
    "    X_train_tensor=X_train_tensor,\n",
    "    y_train_tensor=y_train_tensor,\n",
    "    X_val_tensor=X_val_tensor,\n",
    "    y_val_tensor=y_val_tensor,\n",
    "    num_epochs=20,\n",
    "    batch_size=32,\n",
    "    lr=0.01,\n",
    "    pos_weight=4.5\n",
    ")"
   ]
  },
  {
   "cell_type": "code",
   "execution_count": null,
   "metadata": {},
   "outputs": [],
   "source": [
    "# Save the entire model (architecture + weights)\n",
    "torch.save(trained_model, \"models/myocardial_infarction_model.pth\")"
   ]
  },
  {
   "cell_type": "code",
   "execution_count": 114,
   "metadata": {},
   "outputs": [],
   "source": [
    "# Load the entire model (architecture + weights)\n",
    "model = torch.load(\"models/myocardial_infarction_model.pth\")"
   ]
  },
  {
   "cell_type": "code",
   "execution_count": 115,
   "metadata": {},
   "outputs": [
    {
     "data": {
      "text/plain": [
       "Sequential(\n",
       "  (0): Linear(in_features=107, out_features=64, bias=True)\n",
       "  (1): Sigmoid()\n",
       "  (2): Linear(in_features=64, out_features=32, bias=True)\n",
       "  (3): Sigmoid()\n",
       "  (4): Linear(in_features=32, out_features=1, bias=True)\n",
       ")"
      ]
     },
     "execution_count": 115,
     "metadata": {},
     "output_type": "execute_result"
    }
   ],
   "source": [
    "model.eval()  # This ensures the model behaves correctly during inference"
   ]
  },
  {
   "cell_type": "code",
   "execution_count": 71,
   "metadata": {},
   "outputs": [],
   "source": [
    "# Convert test data to PyTorch tensor\n",
    "X_test_tensor = torch.tensor(X_test_imputed.values, dtype=torch.float32)\n",
    "y_test_tensor = torch.tensor(y_test.values, dtype=torch.float32).view(-1, 1)\n",
    "\n",
    "# Make predictions on the test set\n",
    "with torch.no_grad():  # Disable gradient calculation for evaluation\n",
    "    test_logits = trained_model(X_test_tensor)  # Get raw logits\n",
    "    test_probabilities = torch.sigmoid(test_logits)  # Convert logits to probabilities\n",
    "    test_predictions = (test_probabilities > 0.5).float()  # Convert probabilities to binary predictions"
   ]
  },
  {
   "cell_type": "code",
   "execution_count": 98,
   "metadata": {},
   "outputs": [
    {
     "name": "stdout",
     "output_type": "stream",
     "text": [
      "Test Metrics for Loaded Model:\n",
      "Accuracy: 0.7255\n",
      "Precision: 0.3586\n",
      "Recall: 0.8452\n",
      "F1 Score: 0.5035\n",
      "Balanced Accuracy: 0.7736\n",
      "ROC AUC: 0.8486\n"
     ]
    }
   ],
   "source": [
    "# Convert tensors to NumPy arrays for metric calculations\n",
    "y_test_pred = test_predictions.cpu().numpy()\n",
    "y_test_proba = test_probabilities.cpu().numpy()\n",
    "y_test_true = y_test_tensor.cpu().numpy()\n",
    "\n",
    "# Calculate evaluation metrics\n",
    "test_accuracy = accuracy_score(y_test_true, y_test_pred)\n",
    "test_precision = precision_score(y_test_true, y_test_pred)\n",
    "test_recall = recall_score(y_test_true, y_test_pred)\n",
    "test_f1 = f1_score(y_test_true, y_test_pred)\n",
    "test_auc = roc_auc_score(y_test_true, y_test_proba)\n",
    "test_balanced_accuracy = balanced_accuracy_score(y_test_true, y_test_pred)\n",
    "\n",
    "# Print test metrics\n",
    "print(\"Test Metrics for Loaded Model:\")\n",
    "print(f\"Accuracy: {test_accuracy:.4f}\")\n",
    "print(f\"Precision: {test_precision:.4f}\")\n",
    "print(f\"Recall: {test_recall:.4f}\")\n",
    "print(f\"F1 Score: {test_f1:.4f}\")\n",
    "print(f\"Balanced Accuracy: {test_balanced_accuracy:.4f}\")\n",
    "print(f\"ROC AUC: {test_auc:.4f}\")"
   ]
  },
  {
   "cell_type": "code",
   "execution_count": 55,
   "metadata": {},
   "outputs": [
    {
     "data": {
      "image/png": "[encoded data removed]",
      "text/plain": [
       "<Figure size 640x480 with 2 Axes>"
      ]
     },
     "metadata": {},
     "output_type": "display_data"
    }
   ],
   "source": [
    "# Compute the confusion matrix\n",
    "conf_matrix = confusion_matrix(y_test_true, y_test_pred)\n",
    "\n",
    "# Display the confusion matrix\n",
    "disp = ConfusionMatrixDisplay(confusion_matrix=conf_matrix, display_labels=[\"Alive (0)\", \"Deceased (1)\"])\n",
    "disp.plot(cmap=plt.cm.Blues)\n",
    "plt.title(\"Confusion Matrix for Neural Network\")\n",
    "plt.show()"
   ]
  },
  {
   "cell_type": "markdown",
   "metadata": {},
   "source": [
    "## Part 3: Logistic Regression and XGBoost"
   ]
  },
  {
   "cell_type": "code",
   "execution_count": 57,
   "metadata": {},
   "outputs": [
    {
     "name": "stderr",
     "output_type": "stream",
     "text": [
      "/Users/gianjaeger/Desktop/ML/ML/lib/python3.12/site-packages/sklearn/linear_model/_logistic.py:465: ConvergenceWarning: lbfgs failed to converge (status=1):\n",
      "STOP: TOTAL NO. of ITERATIONS REACHED LIMIT.\n",
      "\n",
      "Increase the number of iterations (max_iter) or scale the data as shown in:\n",
      "    https://scikit-learn.org/stable/modules/preprocessing.html\n",
      "Please also refer to the documentation for alternative solver options:\n",
      "    https://scikit-learn.org/stable/modules/linear_model.html#logistic-regression\n",
      "  n_iter_i = _check_optimize_result(\n"
     ]
    },
    {
     "data": {
      "text/html": [
       "<style>#sk-container-id-2 {\n",
       "  /* Definition of color scheme common for light and dark mode */\n",
       "  --sklearn-color-text: #000;\n",
       "  --sklearn-color-text-muted: #666;\n",
       "  --sklearn-color-line: gray;\n",
       "  /* Definition of color scheme for unfitted estimators */\n",
       "  --sklearn-color-unfitted-level-0: #fff5e6;\n",
       "  --sklearn-color-unfitted-level-1: #f6e4d2;\n",
       "  --sklearn-color-unfitted-level-2: #ffe0b3;\n",
       "  --sklearn-color-unfitted-level-3: chocolate;\n",
       "  /* Definition of color scheme for fitted estimators */\n",
       "  --sklearn-color-fitted-level-0: #f0f8ff;\n",
       "  --sklearn-color-fitted-level-1: #d4ebff;\n",
       "  --sklearn-color-fitted-level-2: #b3dbfd;\n",
       "  --sklearn-color-fitted-level-3: cornflowerblue;\n",
       "\n",
       "  /* Specific color for light theme */\n",
       "  --sklearn-color-text-on-default-background: var(--sg-text-color, var(--theme-code-foreground, var(--jp-content-font-color1, black)));\n",
       "  --sklearn-color-background: var(--sg-background-color, var(--theme-background, var(--jp-layout-color0, white)));\n",
       "  --sklearn-color-border-box: var(--sg-text-color, var(--theme-code-foreground, var(--jp-content-font-color1, black)));\n",
       "  --sklearn-color-icon: #696969;\n",
       "\n",
       "  @media (prefers-color-scheme: dark) {\n",
       "    /* Redefinition of color scheme for dark theme */\n",
       "    --sklearn-color-text-on-default-background: var(--sg-text-color, var(--theme-code-foreground, var(--jp-content-font-color1, white)));\n",
       "    --sklearn-color-background: var(--sg-background-color, var(--theme-background, var(--jp-layout-color0, #111)));\n",
       "    --sklearn-color-border-box: var(--sg-text-color, var(--theme-code-foreground, var(--jp-content-font-color1, white)));\n",
       "    --sklearn-color-icon: #878787;\n",
       "  }\n",
       "}\n",
       "\n",
       "#sk-container-id-2 {\n",
       "  color: var(--sklearn-color-text);\n",
       "}\n",
       "\n",
       "#sk-container-id-2 pre {\n",
       "  padding: 0;\n",
       "}\n",
       "\n",
       "#sk-container-id-2 input.sk-hidden--visually {\n",
       "  border: 0;\n",
       "  clip: rect(1px 1px 1px 1px);\n",
       "  clip: rect(1px, 1px, 1px, 1px);\n",
       "  height: 1px;\n",
       "  margin: -1px;\n",
       "  overflow: hidden;\n",
       "  padding: 0;\n",
       "  position: absolute;\n",
       "  width: 1px;\n",
       "}\n",
       "\n",
       "#sk-container-id-2 div.sk-dashed-wrapped {\n",
       "  border: 1px dashed var(--sklearn-color-line);\n",
       "  margin: 0 0.4em 0.5em 0.4em;\n",
       "  box-sizing: border-box;\n",
       "  padding-bottom: 0.4em;\n",
       "  background-color: var(--sklearn-color-background);\n",
       "}\n",
       "\n",
       "#sk-container-id-2 div.sk-container {\n",
       "  /* jupyter's `normalize.less` sets `[hidden] { display: none; }`\n",
       "     but bootstrap.min.css set `[hidden] { display: none !important; }`\n",
       "     so we also need the `!important` here to be able to override the\n",
       "     default hidden behavior on the sphinx rendered scikit-learn.org.\n",
       "     See: https://github.com/scikit-learn/scikit-learn/issues/21755 */\n",
       "  display: inline-block !important;\n",
       "  position: relative;\n",
       "}\n",
       "\n",
       "#sk-container-id-2 div.sk-text-repr-fallback {\n",
       "  display: none;\n",
       "}\n",
       "\n",
       "div.sk-parallel-item,\n",
       "div.sk-serial,\n",
       "div.sk-item {\n",
       "  /* draw centered vertical line to link estimators */\n",
       "  background-image: linear-gradient(var(--sklearn-color-text-on-default-background), var(--sklearn-color-text-on-default-background));\n",
       "  background-size: 2px 100%;\n",
       "  background-repeat: no-repeat;\n",
       "  background-position: center center;\n",
       "}\n",
       "\n",
       "/* Parallel-specific style estimator block */\n",
       "\n",
       "#sk-container-id-2 div.sk-parallel-item::after {\n",
       "  content: \"\";\n",
       "  width: 100%;\n",
       "  border-bottom: 2px solid var(--sklearn-color-text-on-default-background);\n",
       "  flex-grow: 1;\n",
       "}\n",
       "\n",
       "#sk-container-id-2 div.sk-parallel {\n",
       "  display: flex;\n",
       "  align-items: stretch;\n",
       "  justify-content: center;\n",
       "  background-color: var(--sklearn-color-background);\n",
       "  position: relative;\n",
       "}\n",
       "\n",
       "#sk-container-id-2 div.sk-parallel-item {\n",
       "  display: flex;\n",
       "  flex-direction: column;\n",
       "}\n",
       "\n",
       "#sk-container-id-2 div.sk-parallel-item:first-child::after {\n",
       "  align-self: flex-end;\n",
       "  width: 50%;\n",
       "}\n",
       "\n",
       "#sk-container-id-2 div.sk-parallel-item:last-child::after {\n",
       "  align-self: flex-start;\n",
       "  width: 50%;\n",
       "}\n",
       "\n",
       "#sk-container-id-2 div.sk-parallel-item:only-child::after {\n",
       "  width: 0;\n",
       "}\n",
       "\n",
       "/* Serial-specific style estimator block */\n",
       "\n",
       "#sk-container-id-2 div.sk-serial {\n",
       "  display: flex;\n",
       "  flex-direction: column;\n",
       "  align-items: center;\n",
       "  background-color: var(--sklearn-color-background);\n",
       "  padding-right: 1em;\n",
       "  padding-left: 1em;\n",
       "}\n",
       "\n",
       "\n",
       "/* Toggleable style: style used for estimator/Pipeline/ColumnTransformer box that is\n",
       "clickable and can be expanded/collapsed.\n",
       "- Pipeline and ColumnTransformer use this feature and define the default style\n",
       "- Estimators will overwrite some part of the style using the `sk-estimator` class\n",
       "*/\n",
       "\n",
       "/* Pipeline and ColumnTransformer style (default) */\n",
       "\n",
       "#sk-container-id-2 div.sk-toggleable {\n",
       "  /* Default theme specific background. It is overwritten whether we have a\n",
       "  specific estimator or a Pipeline/ColumnTransformer */\n",
       "  background-color: var(--sklearn-color-background);\n",
       "}\n",
       "\n",
       "/* Toggleable label */\n",
       "#sk-container-id-2 label.sk-toggleable__label {\n",
       "  cursor: pointer;\n",
       "  display: flex;\n",
       "  width: 100%;\n",
       "  margin-bottom: 0;\n",
       "  padding: 0.5em;\n",
       "  box-sizing: border-box;\n",
       "  text-align: center;\n",
       "  align-items: start;\n",
       "  justify-content: space-between;\n",
       "  gap: 0.5em;\n",
       "}\n",
       "\n",
       "#sk-container-id-2 label.sk-toggleable__label .caption {\n",
       "  font-size: 0.6rem;\n",
       "  font-weight: lighter;\n",
       "  color: var(--sklearn-color-text-muted);\n",
       "}\n",
       "\n",
       "#sk-container-id-2 label.sk-toggleable__label-arrow:before {\n",
       "  /* Arrow on the left of the label */\n",
       "  content: \"▸\";\n",
       "  float: left;\n",
       "  margin-right: 0.25em;\n",
       "  color: var(--sklearn-color-icon);\n",
       "}\n",
       "\n",
       "#sk-container-id-2 label.sk-toggleable__label-arrow:hover:before {\n",
       "  color: var(--sklearn-color-text);\n",
       "}\n",
       "\n",
       "/* Toggleable content - dropdown */\n",
       "\n",
       "#sk-container-id-2 div.sk-toggleable__content {\n",
       "  max-height: 0;\n",
       "  max-width: 0;\n",
       "  overflow: hidden;\n",
       "  text-align: left;\n",
       "  /* unfitted */\n",
       "  background-color: var(--sklearn-color-unfitted-level-0);\n",
       "}\n",
       "\n",
       "#sk-container-id-2 div.sk-toggleable__content.fitted {\n",
       "  /* fitted */\n",
       "  background-color: var(--sklearn-color-fitted-level-0);\n",
       "}\n",
       "\n",
       "#sk-container-id-2 div.sk-toggleable__content pre {\n",
       "  margin: 0.2em;\n",
       "  border-radius: 0.25em;\n",
       "  color: var(--sklearn-color-text);\n",
       "  /* unfitted */\n",
       "  background-color: var(--sklearn-color-unfitted-level-0);\n",
       "}\n",
       "\n",
       "#sk-container-id-2 div.sk-toggleable__content.fitted pre {\n",
       "  /* unfitted */\n",
       "  background-color: var(--sklearn-color-fitted-level-0);\n",
       "}\n",
       "\n",
       "#sk-container-id-2 input.sk-toggleable__control:checked~div.sk-toggleable__content {\n",
       "  /* Expand drop-down */\n",
       "  max-height: 200px;\n",
       "  max-width: 100%;\n",
       "  overflow: auto;\n",
       "}\n",
       "\n",
       "#sk-container-id-2 input.sk-toggleable__control:checked~label.sk-toggleable__label-arrow:before {\n",
       "  content: \"▾\";\n",
       "}\n",
       "\n",
       "/* Pipeline/ColumnTransformer-specific style */\n",
       "\n",
       "#sk-container-id-2 div.sk-label input.sk-toggleable__control:checked~label.sk-toggleable__label {\n",
       "  color: var(--sklearn-color-text);\n",
       "  background-color: var(--sklearn-color-unfitted-level-2);\n",
       "}\n",
       "\n",
       "#sk-container-id-2 div.sk-label.fitted input.sk-toggleable__control:checked~label.sk-toggleable__label {\n",
       "  background-color: var(--sklearn-color-fitted-level-2);\n",
       "}\n",
       "\n",
       "/* Estimator-specific style */\n",
       "\n",
       "/* Colorize estimator box */\n",
       "#sk-container-id-2 div.sk-estimator input.sk-toggleable__control:checked~label.sk-toggleable__label {\n",
       "  /* unfitted */\n",
       "  background-color: var(--sklearn-color-unfitted-level-2);\n",
       "}\n",
       "\n",
       "#sk-container-id-2 div.sk-estimator.fitted input.sk-toggleable__control:checked~label.sk-toggleable__label {\n",
       "  /* fitted */\n",
       "  background-color: var(--sklearn-color-fitted-level-2);\n",
       "}\n",
       "\n",
       "#sk-container-id-2 div.sk-label label.sk-toggleable__label,\n",
       "#sk-container-id-2 div.sk-label label {\n",
       "  /* The background is the default theme color */\n",
       "  color: var(--sklearn-color-text-on-default-background);\n",
       "}\n",
       "\n",
       "/* On hover, darken the color of the background */\n",
       "#sk-container-id-2 div.sk-label:hover label.sk-toggleable__label {\n",
       "  color: var(--sklearn-color-text);\n",
       "  background-color: var(--sklearn-color-unfitted-level-2);\n",
       "}\n",
       "\n",
       "/* Label box, darken color on hover, fitted */\n",
       "#sk-container-id-2 div.sk-label.fitted:hover label.sk-toggleable__label.fitted {\n",
       "  color: var(--sklearn-color-text);\n",
       "  background-color: var(--sklearn-color-fitted-level-2);\n",
       "}\n",
       "\n",
       "/* Estimator label */\n",
       "\n",
       "#sk-container-id-2 div.sk-label label {\n",
       "  font-family: monospace;\n",
       "  font-weight: bold;\n",
       "  display: inline-block;\n",
       "  line-height: 1.2em;\n",
       "}\n",
       "\n",
       "#sk-container-id-2 div.sk-label-container {\n",
       "  text-align: center;\n",
       "}\n",
       "\n",
       "/* Estimator-specific */\n",
       "#sk-container-id-2 div.sk-estimator {\n",
       "  font-family: monospace;\n",
       "  border: 1px dotted var(--sklearn-color-border-box);\n",
       "  border-radius: 0.25em;\n",
       "  box-sizing: border-box;\n",
       "  margin-bottom: 0.5em;\n",
       "  /* unfitted */\n",
       "  background-color: var(--sklearn-color-unfitted-level-0);\n",
       "}\n",
       "\n",
       "#sk-container-id-2 div.sk-estimator.fitted {\n",
       "  /* fitted */\n",
       "  background-color: var(--sklearn-color-fitted-level-0);\n",
       "}\n",
       "\n",
       "/* on hover */\n",
       "#sk-container-id-2 div.sk-estimator:hover {\n",
       "  /* unfitted */\n",
       "  background-color: var(--sklearn-color-unfitted-level-2);\n",
       "}\n",
       "\n",
       "#sk-container-id-2 div.sk-estimator.fitted:hover {\n",
       "  /* fitted */\n",
       "  background-color: var(--sklearn-color-fitted-level-2);\n",
       "}\n",
       "\n",
       "/* Specification for estimator info (e.g. \"i\" and \"?\") */\n",
       "\n",
       "/* Common style for \"i\" and \"?\" */\n",
       "\n",
       ".sk-estimator-doc-link,\n",
       "a:link.sk-estimator-doc-link,\n",
       "a:visited.sk-estimator-doc-link {\n",
       "  float: right;\n",
       "  font-size: smaller;\n",
       "  line-height: 1em;\n",
       "  font-family: monospace;\n",
       "  background-color: var(--sklearn-color-background);\n",
       "  border-radius: 1em;\n",
       "  height: 1em;\n",
       "  width: 1em;\n",
       "  text-decoration: none !important;\n",
       "  margin-left: 0.5em;\n",
       "  text-align: center;\n",
       "  /* unfitted */\n",
       "  border: var(--sklearn-color-unfitted-level-1) 1pt solid;\n",
       "  color: var(--sklearn-color-unfitted-level-1);\n",
       "}\n",
       "\n",
       ".sk-estimator-doc-link.fitted,\n",
       "a:link.sk-estimator-doc-link.fitted,\n",
       "a:visited.sk-estimator-doc-link.fitted {\n",
       "  /* fitted */\n",
       "  border: var(--sklearn-color-fitted-level-1) 1pt solid;\n",
       "  color: var(--sklearn-color-fitted-level-1);\n",
       "}\n",
       "\n",
       "/* On hover */\n",
       "div.sk-estimator:hover .sk-estimator-doc-link:hover,\n",
       ".sk-estimator-doc-link:hover,\n",
       "div.sk-label-container:hover .sk-estimator-doc-link:hover,\n",
       ".sk-estimator-doc-link:hover {\n",
       "  /* unfitted */\n",
       "  background-color: var(--sklearn-color-unfitted-level-3);\n",
       "  color: var(--sklearn-color-background);\n",
       "  text-decoration: none;\n",
       "}\n",
       "\n",
       "div.sk-estimator.fitted:hover .sk-estimator-doc-link.fitted:hover,\n",
       ".sk-estimator-doc-link.fitted:hover,\n",
       "div.sk-label-container:hover .sk-estimator-doc-link.fitted:hover,\n",
       ".sk-estimator-doc-link.fitted:hover {\n",
       "  /* fitted */\n",
       "  background-color: var(--sklearn-color-fitted-level-3);\n",
       "  color: var(--sklearn-color-background);\n",
       "  text-decoration: none;\n",
       "}\n",
       "\n",
       "/* Span, style for the box shown on hovering the info icon */\n",
       ".sk-estimator-doc-link span {\n",
       "  display: none;\n",
       "  z-index: 9999;\n",
       "  position: relative;\n",
       "  font-weight: normal;\n",
       "  right: .2ex;\n",
       "  padding: .5ex;\n",
       "  margin: .5ex;\n",
       "  width: min-content;\n",
       "  min-width: 20ex;\n",
       "  max-width: 50ex;\n",
       "  color: var(--sklearn-color-text);\n",
       "  box-shadow: 2pt 2pt 4pt #999;\n",
       "  /* unfitted */\n",
       "  background: var(--sklearn-color-unfitted-level-0);\n",
       "  border: .5pt solid var(--sklearn-color-unfitted-level-3);\n",
       "}\n",
       "\n",
       ".sk-estimator-doc-link.fitted span {\n",
       "  /* fitted */\n",
       "  background: var(--sklearn-color-fitted-level-0);\n",
       "  border: var(--sklearn-color-fitted-level-3);\n",
       "}\n",
       "\n",
       ".sk-estimator-doc-link:hover span {\n",
       "  display: block;\n",
       "}\n",
       "\n",
       "/* \"?\"-specific style due to the `<a>` HTML tag */\n",
       "\n",
       "#sk-container-id-2 a.estimator_doc_link {\n",
       "  float: right;\n",
       "  font-size: 1rem;\n",
       "  line-height: 1em;\n",
       "  font-family: monospace;\n",
       "  background-color: var(--sklearn-color-background);\n",
       "  border-radius: 1rem;\n",
       "  height: 1rem;\n",
       "  width: 1rem;\n",
       "  text-decoration: none;\n",
       "  /* unfitted */\n",
       "  color: var(--sklearn-color-unfitted-level-1);\n",
       "  border: var(--sklearn-color-unfitted-level-1) 1pt solid;\n",
       "}\n",
       "\n",
       "#sk-container-id-2 a.estimator_doc_link.fitted {\n",
       "  /* fitted */\n",
       "  border: var(--sklearn-color-fitted-level-1) 1pt solid;\n",
       "  color: var(--sklearn-color-fitted-level-1);\n",
       "}\n",
       "\n",
       "/* On hover */\n",
       "#sk-container-id-2 a.estimator_doc_link:hover {\n",
       "  /* unfitted */\n",
       "  background-color: var(--sklearn-color-unfitted-level-3);\n",
       "  color: var(--sklearn-color-background);\n",
       "  text-decoration: none;\n",
       "}\n",
       "\n",
       "#sk-container-id-2 a.estimator_doc_link.fitted:hover {\n",
       "  /* fitted */\n",
       "  background-color: var(--sklearn-color-fitted-level-3);\n",
       "}\n",
       "</style><div id=\"sk-container-id-2\" class=\"sk-top-container\"><div class=\"sk-text-repr-fallback\"><pre>LogisticRegression(max_iter=1000, random_state=42)</pre><b>In a Jupyter environment, please rerun this cell to show the HTML representation or trust the notebook. <br />On GitHub, the HTML representation is unable to render, please try loading this page with nbviewer.org.</b></div><div class=\"sk-container\" hidden><div class=\"sk-item\"><div class=\"sk-estimator fitted sk-toggleable\"><input class=\"sk-toggleable__control sk-hidden--visually\" id=\"sk-estimator-id-2\" type=\"checkbox\" checked><label for=\"sk-estimator-id-2\" class=\"sk-toggleable__label fitted sk-toggleable__label-arrow\"><div><div>LogisticRegression</div></div><div><a class=\"sk-estimator-doc-link fitted\" rel=\"noreferrer\" target=\"_blank\" href=\"https://scikit-learn.org/1.6/modules/generated/sklearn.linear_model.LogisticRegression.html\">?<span>Documentation for LogisticRegression</span></a><span class=\"sk-estimator-doc-link fitted\">i<span>Fitted</span></span></div></label><div class=\"sk-toggleable__content fitted\"><pre>LogisticRegression(max_iter=1000, random_state=42)</pre></div> </div></div></div></div>"
      ],
      "text/plain": [
       "LogisticRegression(max_iter=1000, random_state=42)"
      ]
     },
     "execution_count": 57,
     "metadata": {},
     "output_type": "execute_result"
    }
   ],
   "source": [
    "log_reg = LogisticRegression(max_iter=1000, solver='lbfgs', random_state=42)\n",
    "log_reg.fit(X_train_imputed, y_train)"
   ]
  },
  {
   "cell_type": "code",
   "execution_count": 58,
   "metadata": {},
   "outputs": [
    {
     "name": "stdout",
     "output_type": "stream",
     "text": [
      "Validation Metrics:\n",
      "Accuracy: 0.8824\n",
      "Precision: 0.7222\n",
      "Recall: 0.4643\n",
      "F1 Score: 0.5652\n",
      "Balanced Accuracy: 0.7145\n",
      "ROC AUC: 0.8614\n"
     ]
    }
   ],
   "source": [
    "# Predictions on the test set\n",
    "y_val_pred = log_reg.predict(X_test_imputed)\n",
    "y_val_proba = log_reg.predict_proba(X_test_imputed)[:, 1]\n",
    "\n",
    "# Calculate validation metrics\n",
    "val_accuracy = accuracy_score(y_test, y_val_pred)\n",
    "val_precision = precision_score(y_test, y_val_pred)\n",
    "val_recall = recall_score(y_test, y_val_pred)\n",
    "val_f1 = f1_score(y_test, y_val_pred)\n",
    "val_auc = roc_auc_score(y_test, y_val_proba)\n",
    "val_balanced_accuracy = balanced_accuracy_score(y_test, y_val_pred)\n",
    "\n",
    "# Print validation metrics\n",
    "print(\"Validation Metrics:\")\n",
    "print(f\"Accuracy: {val_accuracy:.4f}\")\n",
    "print(f\"Precision: {val_precision:.4f}\")\n",
    "print(f\"Recall: {val_recall:.4f}\")\n",
    "print(f\"F1 Score: {val_f1:.4f}\")\n",
    "print(f\"Balanced Accuracy: {val_balanced_accuracy:.4f}\")\n",
    "print(f\"ROC AUC: {val_auc:.4f}\")"
   ]
  },
  {
   "cell_type": "code",
   "execution_count": 59,
   "metadata": {},
   "outputs": [
    {
     "name": "stdout",
     "output_type": "stream",
     "text": [
      "Confusion Matrix:\n",
      "[[411  15]\n",
      " [ 45  39]]\n"
     ]
    },
    {
     "data": {
      "image/png": "[encoded data removed]",
      "text/plain": [
       "<Figure size 640x480 with 2 Axes>"
      ]
     },
     "metadata": {},
     "output_type": "display_data"
    }
   ],
   "source": [
    "# Predictions on the test set\n",
    "y_test_pred = log_reg.predict(X_test_imputed)\n",
    "\n",
    "# Confusion Matrix\n",
    "conf_matrix = confusion_matrix(y_test, y_test_pred)\n",
    "print(\"Confusion Matrix:\")\n",
    "print(conf_matrix)\n",
    "\n",
    "# Set Times New Roman font for Matplotlib\n",
    "plt.rcParams[\"font.family\"] = \"Times New Roman\"\n",
    "\n",
    "# Visualization\n",
    "disp = ConfusionMatrixDisplay(confusion_matrix=conf_matrix, display_labels=log_reg.classes_)\n",
    "disp.plot(cmap=plt.cm.Blues)\n",
    "plt.title(\"Logistic Regression\", fontsize=14)  # Adjust font size if needed\n",
    "plt.show()"
   ]
  },
  {
   "cell_type": "markdown",
   "metadata": {},
   "source": [
    "**XGBoost**\n",
    "\n",
    "Note the script for XGBoost should be run on Google Collab if it crashes the kernel"
   ]
  },
  {
   "cell_type": "code",
   "execution_count": null,
   "metadata": {},
   "outputs": [
    {
     "name": "stdout",
     "output_type": "stream",
     "text": [
      "Validation Metrics for XGBoost:\n",
      "Accuracy: 0.8992\n",
      "Precision: 0.6087\n",
      "Recall: 0.3415\n",
      "F1 Score: 0.4375\n",
      "Balanced Accuracy: 0.6565\n",
      "ROC AUC: 0.8740\n"
     ]
    }
   ],
   "source": [
    "# Create an XGBoost model to compare with logistic regression and neural network\n",
    "\n",
    "# Adjust hyperparameters to avoid excessive memory use\n",
    "xgb_model = xgb.XGBClassifier(\n",
    "    objective=\"binary:logistic\",\n",
    "    random_state=42,\n",
    "    max_depth=6,          # Tree depth\n",
    "    n_estimators=50,     # Number of trees\n",
    "    subsample=0.8,        # Use 80% of samples for each tree\n",
    "    colsample_bytree=0.8, # Use 80% of features for each tree\n",
    "    learning_rate=0.1,    # Default learning rate\n",
    "    enable_categorical=True  # Enable categorical support for experimental features\n",
    ")\n",
    "\n",
    "# Train the model on the training set\n",
    "xgb_model.fit(X_train_imputed, y_train)\n",
    "\n",
    "# Predictions on the validation set\n",
    "y_val_pred_xgb = xgb_model.predict(X_val_imputed)\n",
    "y_val_proba_xgb = xgb_model.predict_proba(X_val_imputed)[:, 1]\n",
    "\n",
    "# Calculate validation metrics\n",
    "val_accuracy_xgb = accuracy_score(y_val, y_val_pred_xgb)\n",
    "val_precision_xgb = precision_score(y_val, y_val_pred_xgb)\n",
    "val_recall_xgb = recall_score(y_val, y_val_pred_xgb)\n",
    "val_f1_xgb = f1_score(y_val, y_val_pred_xgb)\n",
    "val_auc_xgb = roc_auc_score(y_val, y_val_proba_xgb)\n",
    "val_balanced_accuracy_xgb = balanced_accuracy_score(y_val, y_val_pred_xgb)\n",
    "\n",
    "print(\"Validation Metrics for XGBoost:\")\n",
    "print(f\"Accuracy: {val_accuracy_xgb:.4f}\")\n",
    "print(f\"Precision: {val_precision_xgb:.4f}\")\n",
    "print(f\"Recall: {val_recall_xgb:.4f}\")\n",
    "print(f\"F1 Score: {val_f1_xgb:.4f}\")\n",
    "print(f\"Balanced Accuracy: {val_balanced_accuracy_xgb:.4f}\")\n",
    "print(f\"ROC AUC: {val_auc_xgb:.4f}\")"
   ]
  },
  {
   "cell_type": "code",
   "execution_count": null,
   "metadata": {},
   "outputs": [],
   "source": [
    "# Confusion Matrix\n",
    "conf_matrix_xgb = confusion_matrix(y_test, y_val_pred_xgb)\n",
    "\n",
    "# Visualization\n",
    "disp = ConfusionMatrixDisplay(confusion_matrix=conf_matrix_xgb, display_labels=xgb_model.classes_)\n",
    "disp.plot(cmap=plt.cm.Blues)\n",
    "plt.title(\"Confusion Matrix for XGBoost\")\n",
    "plt.show()"
   ]
  },
  {
   "cell_type": "markdown",
   "metadata": {},
   "source": [
    "## Part 4: PCA"
   ]
  },
  {
   "cell_type": "code",
   "execution_count": 133,
   "metadata": {},
   "outputs": [],
   "source": [
    "# Assuming X_train_imputed, X_val_imputed, and X_test_imputed are already loaded as DataFrames.\n",
    "# Standardize the data using StandardScaler\n",
    "scaler = StandardScaler()\n",
    "\n",
    "# Fit the scaler on the training data and transform train, validation, and test datasets\n",
    "X_train_standardized = scaler.fit_transform(X_train_imputed)\n",
    "X_val_standardized = scaler.transform(X_val_imputed)\n",
    "X_test_standardized = scaler.transform(X_test_imputed)\n",
    "\n",
    "# Convert the standardized data back to DataFrames for easy manipulation and visualization if needed\n",
    "X_train_standardized = pd.DataFrame(X_train_standardized, columns=X_train_imputed.columns)\n",
    "X_val_standardized = pd.DataFrame(X_val_standardized, columns=X_val_imputed.columns)\n",
    "X_test_standardized = pd.DataFrame(X_test_standardized, columns=X_test_imputed.columns)"
   ]
  },
  {
   "cell_type": "code",
   "execution_count": 136,
   "metadata": {},
   "outputs": [
    {
     "data": {
      "image/png": "[encoded data removed]",
      "text/plain": [
       "<Figure size 1000x600 with 1 Axes>"
      ]
     },
     "metadata": {},
     "output_type": "display_data"
    }
   ],
   "source": [
    "# Set the font to Times New Roman explicitly for Seaborn plots\n",
    "sns.set_theme(style=\"whitegrid\", rc={\"font.family\": \"Times New Roman\"})\n",
    "\n",
    "# Perform PCA on the standardized training data\n",
    "pca = PCA()\n",
    "pca.fit(X_train_standardized)\n",
    "\n",
    "# Prepare data for plotting\n",
    "explained_variance = pca.explained_variance_\n",
    "components = range(1, len(explained_variance) + 1)\n",
    "\n",
    "# Plot the explained variance using Seaborn\n",
    "plt.figure(figsize=(10, 6))\n",
    "sns.lineplot(x=components, y=explained_variance, marker='o', color='blue')\n",
    "plt.xlabel('Number of Principal Components', fontsize=14, fontname='Times New Roman')\n",
    "plt.ylabel('Explained Variance', fontsize=14, fontname='Times New Roman')\n",
    "plt.title('Explained Variance of Principal Components', fontsize=16, fontname='Times New Roman')\n",
    "plt.xticks(fontsize=12, fontname='Times New Roman')\n",
    "plt.yticks(fontsize=12, fontname='Times New Roman')\n",
    "plt.show()"
   ]
  }
 ],
 "metadata": {
  "kernelspec": {
   "display_name": "ML",
   "language": "python",
   "name": "python3"
  },
  "language_info": {
   "codemirror_mode": {
    "name": "ipython",
    "version": 3
   },
   "file_extension": ".py",
   "mimetype": "text/x-python",
   "name": "python",
   "nbconvert_exporter": "python",
   "pygments_lexer": "ipython3",
   "version": "3.12.4"
  }
 },
 "nbformat": 4,
 "nbformat_minor": 2
}
